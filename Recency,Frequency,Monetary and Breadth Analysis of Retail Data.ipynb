{
 "cells": [
  {
   "cell_type": "markdown",
   "metadata": {
    "id": "it8y5JplvSWU"
   },
   "source": [
    "## 1. Domain Introduction: \n",
    "### Customer Segmentation:\n",
    "Customer segmentation is the practice of dividing a customer base into groups of individuals that are similar in specific ways relevant to marketing, such as age, gender, interests and spending habits.\n",
    "\n",
    "Customer segmentation relies on identifying key differentiators that divide customers into groups that can be targeted. Information such as a customer's: \n",
    "\n",
    "- Demographics (age, race, religion, gender, family size, ethnicity, income, education level)\n",
    "- Geography (where they live and work)\n",
    "- Psychographic (social class, lifestyle and personality characteristics) \n",
    "- Behavioral (spending, consumption, usage and desired benefits) tendencies \n",
    "are taken into account when determining customer segmentation practices.\n",
    "\n",
    "In this Data Tale we will focus on behavioral Tendencies in order to group Customers into the following categories:\n",
    "- Loyal Customers\n",
    "- Best Customers\n",
    "- Big Spenders Customers\n",
    "- High Breadth Customers(those who buy a large range of products)\n",
    "- Almost Lost Customers\n",
    "- Lost Customers\n",
    "- Lost Cheap Customers\n",
    "\n",
    "\n",
    "#### RFM Metrics:\n",
    "These stand for Recency,Frequency and Monetary metrics and they are widely used by organisations for behavioral segementation of their customers.\n",
    "\n",
    "#### Recency\n",
    "- How long ago was last purchase? (in no of days)\n",
    "- Measured for “As Of Date” of data set which is taken as max(Invoice_Date) in our dataset\n",
    "\n",
    "#### Frequency\n",
    "- How many orders in analysis period?\n",
    "- Attempting to measure engagement\n",
    "\n",
    "#### Monetary\n",
    "- What is total monetary value of all orders in analysis period?\n",
    "\n",
    "Now I have also introduced Breadth as a metric in our analysis which is defined below:-\n",
    "\n",
    "#### Breadth\n",
    "- How many different kinds of products were purchased by the customer?\n",
    "\n",
    "Hence our metrics can be termed as **RFMB Metrics**\n"
   ]
  },
  {
   "cell_type": "code",
   "execution_count": 1,
   "metadata": {
    "id": "j3HHaksCpExZ"
   },
   "outputs": [],
   "source": [
    "import pandas as pd\n",
    "import warnings\n",
    "warnings.filterwarnings('ignore')\n",
    "from datetime import timedelta"
   ]
  },
  {
   "cell_type": "markdown",
   "metadata": {
    "id": "h-LnRFFuyjHP"
   },
   "source": [
    "### Dataset for Online Retail has been imported from kaggle using my username and key\n",
    "\n",
    "1.   List item\n",
    "2.   List item\n",
    "\n"
   ]
  },
  {
   "cell_type": "code",
   "execution_count": 2,
   "metadata": {
    "colab": {
     "base_uri": "https://localhost:8080/"
    },
    "id": "RRm8VgVQokk1",
    "outputId": "d452ebd7-f47f-427f-e19a-85fcfd924d05"
   },
   "outputs": [
    {
     "name": "stdout",
     "output_type": "stream",
     "text": [
      "cp: '/root/.kaggle/kaggle.json' and '/root/.kaggle/kaggle.json' are the same file\n",
      "Warning: Your Kaggle API key is readable by other users on this system! To fix this, you can run 'chmod 600 /root/.kaggle/kaggle.json'\n",
      "- path is now set to: {/content}\n",
      "Downloading online-retail.zip to /content\n",
      " 78% 17.0M/21.9M [00:00<00:00, 31.5MB/s]\n",
      "100% 21.9M/21.9M [00:00<00:00, 37.2MB/s]\n"
     ]
    }
   ],
   "source": [
    "#creating a directory\n",
    "!mkdir ~/.kaggle\n",
    "#using credentials to open kaggle dataset\n",
    "import json\n",
    "token = {\"username\":\"enter your username\",\"key\":\"enter your key\"}\n",
    "with open('/root/.kaggle/kaggle.json', 'w') as file:\n",
    "    json.dump(token, file)\n",
    "!cp /root/.kaggle/kaggle.json ~/.kaggle/kaggle.json\n",
    "!kaggle config set -n path -v{/content}\n",
    "!chmod 600 /root/.kaggle/kaggle.json\n",
    "#downloading the zipped dataset folder on cloud\n",
    "!kaggle datasets download -d mrmining/online-retail -p /content    "
   ]
  },
  {
   "cell_type": "code",
   "execution_count": 3,
   "metadata": {
    "colab": {
     "base_uri": "https://localhost:8080/"
    },
    "id": "9KIH06uqoku2",
    "outputId": "047c7e86-bac2-44c3-ad56-a79cccc4860b"
   },
   "outputs": [
    {
     "name": "stdout",
     "output_type": "stream",
     "text": [
      "Archive:  online-retail.zip\n",
      "  inflating: Online Retail.xlsx      \n"
     ]
    }
   ],
   "source": [
    "#unzipping the folder\n",
    "!unzip \\*.zip"
   ]
  },
  {
   "cell_type": "markdown",
   "metadata": {
    "id": "EwjoDhUB25PG"
   },
   "source": [
    "**prep_for_rfmb function** \n",
    "<br>\n",
    "A function intended to preprocess the data which is basically to remove null customer ids and take into account only the positive values of quantity and unit price"
   ]
  },
  {
   "cell_type": "code",
   "execution_count": 4,
   "metadata": {
    "id": "e0ds67qj-a_u"
   },
   "outputs": [],
   "source": [
    "#A function intended to preprocess the data which is basically to remove null customer ids and take into account only the positive values of quantity\n",
    "# and unit price\n",
    "def prep_for_rfmb(dataframe,cust_id='CustomerID', quantity='Quantity',price='UnitPrice', total_price = 'TotalPrice'):\n",
    "    dataframe = dataframe[pd.notnull(dataframe[cust_id])]\n",
    "    for var in [quantity,price]:\n",
    "        dataframe = dataframe[(dataframe[var]>0)]\n",
    "    dataframe[total_price] = dataframe[quantity] * dataframe[price]\n",
    "    return dataframe"
   ]
  },
  {
   "cell_type": "code",
   "execution_count": 5,
   "metadata": {
    "id": "m9Cp6KRq-bE7"
   },
   "outputs": [],
   "source": [
    "#Here Invoicedate is coverted to a suitable datatype so as to perform computations\n",
    "def create_rfmb_table(dataframe, cust_id='CustomerID', invoice_date='InvoiceDate', total_price = 'TotalPrice'):\n",
    "    NOW = pd.to_datetime(dataframe[invoice_date].max()) + timedelta(days=1)\n",
    "    dataframe[invoice_date] = pd.to_datetime(dataframe[invoice_date])\n",
    "    #Creating an rfmb Table\n",
    "    rfmbTable = dataframe.groupby(cust_id).agg(\n",
    "    {\n",
    "        'InvoiceDate': lambda x: (NOW - x.max()).days, #how many no of days before the current date the product was bought\n",
    "        'StockCode': lambda x: x.count() ,  #the range of products customer buys\n",
    "        'InvoiceNo': lambda x: len(x), total_price: lambda x: x.sum()  #how frequently the product is bought in a time period\n",
    "     }\n",
    "    )\n",
    "    rfmbTable['InvoiceDate'] = rfmbTable['InvoiceDate'].astype(int)\n",
    "    rfmbTable.rename(\n",
    "    columns={\n",
    "        'InvoiceDate': 'recency',  \n",
    "        'InvoiceNo': 'frequency', \n",
    "        'TotalPrice': 'monetary_value',#Total Price is obviously going to be the monetary value\n",
    "        'StockCode': 'breadth'},\n",
    "    inplace=True\n",
    "    )\n",
    "    return rfmbTable"
   ]
  },
  {
   "cell_type": "markdown",
   "metadata": {
    "id": "4OMN3uPNzMm7"
   },
   "source": [
    "## Creating Quantiles of Recency, Frequency, Monetary and Breadth values for all customers\n",
    "\n",
    "### **R Metrics**\n",
    "#### The lower value of recency metric implies that the order was recently placed by a customer and less the recency the more better it is. Hence lower values of recency are placed in 1st quartile and higher in subsequent below quartiles. \n",
    "\n",
    "### **FMB Metrics**\n",
    "#### The higher values of frequency,breadth and monetary metrics implies that the orders are frequently placed by customer or we attain more monetary benefits or our customer buys more range of products and hence more the FMB metrics, the more better it is. Therefore higher values of monetary,breadth and frequency metrics are placed in 1st quartile and lower ones in subsequent below quartiles."
   ]
  },
  {
   "cell_type": "markdown",
   "metadata": {
    "id": "N8Z720do0xyu"
   },
   "source": [
    "## Defining Segments of Customers on the basis of RFM Metrics\n",
    "\n",
    "### **Best Customers**\n",
    "#### The best ones are in the first quartile in all R,F,M and B metrics\n",
    "\n",
    "### **Loyal Customers**\n",
    "#### The loyal customers are those who buy from us frequently or in first quartile of frequency metrics\n",
    "\n",
    "### **Big Spender Customers**\n",
    "#### The big spenders are those who are in first quartile of monetary metrics\n",
    "\n",
    "### **High Breadth Customers**\n",
    "#### The customers who buy a large range of products.\n",
    "\n",
    "### **Almost Lost Customers**\n",
    "#### The almost lost ones are in the third quartile of recency category\n",
    "\n",
    "### **Lost Customers**\n",
    "#### The lost ones are in the fourth quartile of recency category who used to buy frequently from us and we had monetary benefits from them\n",
    "\n",
    "### **Lost Cheap Customers**\n",
    "#### They are in the fourth quartile of all categories\n",
    "\n"
   ]
  },
  {
   "cell_type": "code",
   "execution_count": 6,
   "metadata": {
    "id": "PtBSORlu-bRF"
   },
   "outputs": [],
   "source": [
    "def segment_rfmb_table(rfmb_table):\n",
    "    \n",
    "    segments = {}\n",
    "    quantiles = rfmb_table.quantile(q=[0.25,0.5,0.75])\n",
    "    quantiles = quantiles.to_dict()\n",
    "    #so the less value of recency metric implies that the order was recently placed by a customer and less the recency the more better it is.\n",
    "    # Hence lower values of recency are placed in 1st quartile and higher in subsequent below quartiles.  \n",
    "    def RScore(x,p,d):\n",
    "        if x <= d[p][0.25]:\n",
    "            return 1\n",
    "        elif x <= d[p][0.50]:\n",
    "            return 2\n",
    "        elif x <= d[p][0.75]: \n",
    "            return 3\n",
    "        else:\n",
    "            return 4\n",
    "    #so the higher values of frequency,breadth and monetary metrics implies that the orders are frequently placed by customer or we attain more monetary benefits \n",
    "    # from the customer and hence more the FMB metrics, the more better it is.\n",
    "    # Hence higher values of monetary,breadth and frequency metrics are placed in 1st quartile and lower ones in subsequent below quartiles.          \n",
    "    def FMBScore(x,p,d):\n",
    "        if x <= d[p][0.25]:\n",
    "            return 4\n",
    "        elif x <= d[p][0.50]:\n",
    "            return 3\n",
    "        elif x <= d[p][0.75]: \n",
    "            return 2\n",
    "        else:\n",
    "            return 1\n",
    "    \n",
    "    segmented_rfmb = rfmb_table \n",
    "    #Recency, Frequency and Monetary quartiles for each customer\n",
    "    segmented_rfmb['r_quartile'] = segmented_rfmb['recency'].apply(RScore, args=('recency',quantiles,))\n",
    "    segmented_rfmb['f_quartile'] = segmented_rfmb['frequency'].apply(FMBScore, args=('frequency',quantiles,))\n",
    "    segmented_rfmb['m_quartile'] = segmented_rfmb['monetary_value'].apply(FMBScore, args=('monetary_value',quantiles,))\n",
    "    segmented_rfmb['b_quartile'] = segmented_rfmb['breadth'].apply(FMBScore, args=('breadth',quantiles,))\n",
    "    #rfmb Score is just appending the above strings in order \n",
    "    segmented_rfmb['rfmbScore'] = segmented_rfmb.r_quartile.map(str) + segmented_rfmb.f_quartile.map(str) + segmented_rfmb.m_quartile.map(str)+ segmented_rfmb.b_quartile.map(str)\n",
    "    \n",
    "    def create_segment(segmented_rfmb,r_quartile=1,f_quartile=1,m_quartile=1):\n",
    "        step1 = segmented_rfmb[segmented_rfmb['r_quartile']==r_quartile].sort_values('monetary_value', ascending=False)\n",
    "        step2 = step1[step1['f_quartile']==f_quartile].sort_values('monetary_value', ascending=False)\n",
    "        step3 = step2[step2['m_quartile']==m_quartile].sort_values('monetary_value', ascending=False) \n",
    "        return step3\n",
    "    #Here we have created segments for our best, almost_lost, lost, lost_cheap, loyal and big spender customers\n",
    "    #The best ones are in the first quartile in all categories\n",
    "    segments['best'] = create_segment(segmented_rfmb=segmented_rfmb,r_quartile=1,f_quartile=1,m_quartile=1)\n",
    "    #The almost lost ones are in the third quartile of recency category\n",
    "    segments['almost_lost'] = create_segment(segmented_rfmb=segmented_rfmb,r_quartile=3,f_quartile=1,m_quartile=1)\n",
    "    #The lost ones are in the fourth quartile of recency category who used to buy frequently from us and we had monetary benefits \n",
    "    segments['lost'] = create_segment(segmented_rfmb=segmented_rfmb,r_quartile=4,f_quartile=1,m_quartile=1)\n",
    "    #The lost_cheap ones are those whom we have lost but they were neither frequent nor gave us monetary benefits\n",
    "    # They are in the fourth quartile of all categories\n",
    "    segments['lost_cheap'] = create_segment(segmented_rfmb=segmented_rfmb,r_quartile=4,f_quartile=4,m_quartile=4)\n",
    "    #The loyal customers are those who buy from us frequently\n",
    "    segments['loyal'] = segmented_rfmb[segmented_rfmb['f_quartile']==1].sort_values('monetary_value', ascending=False)\n",
    "    #The big spenders are those who are in first quartile of monetary\n",
    "    segments['big_spender'] = segmented_rfmb[segmented_rfmb['m_quartile']==1].sort_values('monetary_value', ascending=False)\n",
    "    #The customers who buy a large range of products\n",
    "    segments['ranged'] = segmented_rfmb[segmented_rfmb['b_quartile']==1].sort_values('monetary_value', ascending=False)\n",
    "  \n",
    "\n",
    "    return segments"
   ]
  },
  {
   "cell_type": "code",
   "execution_count": 7,
   "metadata": {
    "id": "Ur5Uo40G-ba0"
   },
   "outputs": [],
   "source": [
    "def main(raw_data):\n",
    "    df_clean = prep_for_rfmb(dataframe=raw_data)\n",
    "    rfmb_table = create_rfmb_table(dataframe=df_clean)\n",
    "    print(rfmb_table)\n",
    "    segmented_rfmb = segment_rfmb_table(rfmb_table=rfmb_table)\n",
    "    return segmented_rfmb"
   ]
  },
  {
   "cell_type": "code",
   "execution_count": 8,
   "metadata": {
    "colab": {
     "base_uri": "https://localhost:8080/",
     "height": 204
    },
    "id": "3B9-tBnXUhax",
    "outputId": "1678cc07-72e3-45c8-bb8c-22be0068a325"
   },
   "outputs": [
    {
     "data": {
      "text/html": [
       "<div>\n",
       "<style scoped>\n",
       "    .dataframe tbody tr th:only-of-type {\n",
       "        vertical-align: middle;\n",
       "    }\n",
       "\n",
       "    .dataframe tbody tr th {\n",
       "        vertical-align: top;\n",
       "    }\n",
       "\n",
       "    .dataframe thead th {\n",
       "        text-align: right;\n",
       "    }\n",
       "</style>\n",
       "<table border=\"1\" class=\"dataframe\">\n",
       "  <thead>\n",
       "    <tr style=\"text-align: right;\">\n",
       "      <th></th>\n",
       "      <th>InvoiceNo</th>\n",
       "      <th>StockCode</th>\n",
       "      <th>lower</th>\n",
       "      <th>Description</th>\n",
       "      <th>Quantity</th>\n",
       "      <th>InvoiceDate</th>\n",
       "      <th>UnitPrice</th>\n",
       "      <th>CustomerID</th>\n",
       "      <th>Country</th>\n",
       "    </tr>\n",
       "  </thead>\n",
       "  <tbody>\n",
       "    <tr>\n",
       "      <th>0</th>\n",
       "      <td>536365</td>\n",
       "      <td>85123A</td>\n",
       "      <td>white hanging heart t-light holder</td>\n",
       "      <td>WHITE HANGING HEART T-LIGHT HOLDER</td>\n",
       "      <td>6</td>\n",
       "      <td>2010-12-01 08:26:00</td>\n",
       "      <td>2.55</td>\n",
       "      <td>17850.0</td>\n",
       "      <td>United Kingdom</td>\n",
       "    </tr>\n",
       "    <tr>\n",
       "      <th>1</th>\n",
       "      <td>536365</td>\n",
       "      <td>71053</td>\n",
       "      <td>white metal lantern</td>\n",
       "      <td>WHITE METAL LANTERN</td>\n",
       "      <td>6</td>\n",
       "      <td>2010-12-01 08:26:00</td>\n",
       "      <td>3.39</td>\n",
       "      <td>17850.0</td>\n",
       "      <td>United Kingdom</td>\n",
       "    </tr>\n",
       "    <tr>\n",
       "      <th>2</th>\n",
       "      <td>536365</td>\n",
       "      <td>84406B</td>\n",
       "      <td>cream cupid hearts coat hanger</td>\n",
       "      <td>CREAM CUPID HEARTS COAT HANGER</td>\n",
       "      <td>8</td>\n",
       "      <td>2010-12-01 08:26:00</td>\n",
       "      <td>2.75</td>\n",
       "      <td>17850.0</td>\n",
       "      <td>United Kingdom</td>\n",
       "    </tr>\n",
       "    <tr>\n",
       "      <th>3</th>\n",
       "      <td>536365</td>\n",
       "      <td>84029G</td>\n",
       "      <td>knitted union flag hot water bottle</td>\n",
       "      <td>KNITTED UNION FLAG HOT WATER BOTTLE</td>\n",
       "      <td>6</td>\n",
       "      <td>2010-12-01 08:26:00</td>\n",
       "      <td>3.39</td>\n",
       "      <td>17850.0</td>\n",
       "      <td>United Kingdom</td>\n",
       "    </tr>\n",
       "    <tr>\n",
       "      <th>4</th>\n",
       "      <td>536365</td>\n",
       "      <td>84029E</td>\n",
       "      <td>red woolly hottie white heart.</td>\n",
       "      <td>RED WOOLLY HOTTIE WHITE HEART.</td>\n",
       "      <td>6</td>\n",
       "      <td>2010-12-01 08:26:00</td>\n",
       "      <td>3.39</td>\n",
       "      <td>17850.0</td>\n",
       "      <td>United Kingdom</td>\n",
       "    </tr>\n",
       "  </tbody>\n",
       "</table>\n",
       "</div>"
      ],
      "text/plain": [
       "  InvoiceNo StockCode  ... CustomerID         Country\n",
       "0    536365    85123A  ...    17850.0  United Kingdom\n",
       "1    536365     71053  ...    17850.0  United Kingdom\n",
       "2    536365    84406B  ...    17850.0  United Kingdom\n",
       "3    536365    84029G  ...    17850.0  United Kingdom\n",
       "4    536365    84029E  ...    17850.0  United Kingdom\n",
       "\n",
       "[5 rows x 9 columns]"
      ]
     },
     "execution_count": 8,
     "metadata": {
      "tags": []
     },
     "output_type": "execute_result"
    }
   ],
   "source": [
    "#opening the dataframe\n",
    "df = pd.read_excel('Online Retail.xlsx')\n",
    "df.head()"
   ]
  },
  {
   "cell_type": "code",
   "execution_count": 12,
   "metadata": {
    "colab": {
     "base_uri": "https://localhost:8080/"
    },
    "id": "9kbLG5KROghK",
    "outputId": "168bcbee-6644-48dc-8502-409f618ee9bc"
   },
   "outputs": [
    {
     "name": "stdout",
     "output_type": "stream",
     "text": [
      "            recency  breadth  frequency  monetary_value\n",
      "CustomerID                                             \n",
      "12346.0         326        1          1        77183.60\n",
      "12347.0           2      182        182         4310.00\n",
      "12348.0          75       31         31         1797.24\n",
      "12349.0          19       73         73         1757.55\n",
      "12350.0         310       17         17          334.40\n",
      "...             ...      ...        ...             ...\n",
      "18280.0         278       10         10          180.60\n",
      "18281.0         181        7          7           80.82\n",
      "18282.0           8       12         12          178.05\n",
      "18283.0           4      756        756         2094.88\n",
      "18287.0          43       70         70         1837.28\n",
      "\n",
      "[4338 rows x 4 columns]\n",
      "\n",
      "    **************************************\n",
      "    RFMB MARKETING STRATEGY\n",
      "    **************************************\n",
      "    \n",
      "    The following strategies are recommended for rfmb:\n",
      "    \n",
      "    BEST CUSTOMERS: no price incentives, new products, and loyalty programs\n",
      "    LOYAL CUSTOMERS: Use frequency and monetary metrics to segment further\n",
      "    BIG SPENDERS: Market the most expensive products\n",
      "    ALMOST LOST & LOST: Aggresive price incentives\n",
      "    LOST CHEAP CUSTOMERS: Don't spend too many resources trying to acquire\n",
      "    \n",
      "    \n",
      "    \n",
      "    \n"
     ]
    }
   ],
   "source": [
    "if __name__==\"__main__\":\n",
    "    \n",
    "    segmented_rfmb = main(raw_data=df)\n",
    "    \n",
    "    print(\"\"\"\n",
    "    **************************************\n",
    "    RFMB MARKETING STRATEGY\n",
    "    **************************************\n",
    "    \n",
    "    The following strategies are recommended for rfmb:\n",
    "    \n",
    "    BEST CUSTOMERS: no price incentives, new products, and loyalty programs\n",
    "    LOYAL CUSTOMERS: Use frequency and monetary metrics to segment further\n",
    "    BIG SPENDERS: Market the most expensive products\n",
    "    ALMOST LOST & LOST: Aggresive price incentives\n",
    "    LOST CHEAP CUSTOMERS: Don't spend too many resources trying to acquire\n",
    "    \n",
    "    \n",
    "    \n",
    "    \"\"\")"
   ]
  },
  {
   "cell_type": "markdown",
   "metadata": {
    "id": "rqRN6j4B3S76"
   },
   "source": [
    "**Segmented_RFMB** displays the recency, frequency, monetary and breadth metrics for all customers segmented as **loyal,best,lost,almost_lost,lost_cheap,higher breadth and big spenders** along with the **quartiles** for above metrics"
   ]
  },
  {
   "cell_type": "code",
   "execution_count": 13,
   "metadata": {
    "colab": {
     "base_uri": "https://localhost:8080/"
    },
    "id": "fYiN4mUaWSlK",
    "outputId": "8772058b-1ca9-4183-f700-a6f64db765de"
   },
   "outputs": [
    {
     "data": {
      "text/plain": [
       "{'almost_lost':             recency  breadth  frequency  ...  m_quartile  b_quartile  rfmbScore\n",
       " CustomerID                               ...                                   \n",
       " 12744.0          52      222        222  ...           1           1       3111\n",
       " 12409.0          79      109        109  ...           1           1       3111\n",
       " 16180.0         100      162        162  ...           1           1       3111\n",
       " 14952.0          60      138        138  ...           1           1       3111\n",
       " 16745.0          87      357        357  ...           1           1       3111\n",
       " ...             ...      ...        ...  ...         ...         ...        ...\n",
       " 15220.0          52      117        117  ...           1           1       3111\n",
       " 15241.0          67      110        110  ...           1           1       3111\n",
       " 12843.0          66      103        103  ...           1           1       3111\n",
       " 15549.0          77      115        115  ...           1           1       3111\n",
       " 12635.0          90      101        101  ...           1           1       3111\n",
       " \n",
       " [101 rows x 9 columns],\n",
       " 'best':             recency  breadth  frequency  ...  m_quartile  b_quartile  rfmbScore\n",
       " CustomerID                               ...                                   \n",
       " 14646.0           2     2076       2076  ...           1           1       1111\n",
       " 18102.0           1      431        431  ...           1           1       1111\n",
       " 17450.0           8      337        337  ...           1           1       1111\n",
       " 14911.0           1     5675       5675  ...           1           1       1111\n",
       " 14156.0          10     1400       1400  ...           1           1       1111\n",
       " ...             ...      ...        ...  ...         ...         ...        ...\n",
       " 17813.0          14      371        371  ...           1           1       1111\n",
       " 13184.0          15      181        181  ...           1           1       1111\n",
       " 16775.0          10      158        158  ...           1           1       1111\n",
       " 16813.0           8      449        449  ...           1           1       1111\n",
       " 16115.0          10      284        284  ...           1           1       1111\n",
       " \n",
       " [447 rows x 9 columns],\n",
       " 'big_spender':             recency  breadth  frequency  ...  m_quartile  b_quartile  rfmbScore\n",
       " CustomerID                               ...                                   \n",
       " 14646.0           2     2076       2076  ...           1           1       1111\n",
       " 18102.0           1      431        431  ...           1           1       1111\n",
       " 17450.0           8      337        337  ...           1           1       1111\n",
       " 16446.0           1        3          3  ...           1           4       1414\n",
       " 14911.0           1     5675       5675  ...           1           1       1111\n",
       " ...             ...      ...        ...  ...         ...         ...        ...\n",
       " 17656.0          73       82         82  ...           1           2       3212\n",
       " 16115.0          10      284        284  ...           1           1       1111\n",
       " 12912.0           3       24         24  ...           1           3       1313\n",
       " 12530.0          60       66         66  ...           1           2       3212\n",
       " 13012.0           9       89         89  ...           1           2       1212\n",
       " \n",
       " [1085 rows x 9 columns],\n",
       " 'lost':             recency  breadth  frequency  ...  m_quartile  b_quartile  rfmbScore\n",
       " CustomerID                               ...                                   \n",
       " 13093.0         276      159        159  ...           1           1       4111\n",
       " 17850.0         372      297        297  ...           1           1       4111\n",
       " 14016.0         162      161        161  ...           1           1       4111\n",
       " 15808.0         306      208        208  ...           1           1       4111\n",
       " 15379.0         169      194        194  ...           1           1       4111\n",
       " 13952.0         218      137        137  ...           1           1       4111\n",
       " 17504.0         206      127        127  ...           1           1       4111\n",
       " 17444.0         148      135        135  ...           1           1       4111\n",
       " 12669.0         151      101        101  ...           1           1       4111\n",
       " 12840.0         144      113        113  ...           1           1       4111\n",
       " 18260.0         173      134        134  ...           1           1       4111\n",
       " 16919.0         156      327        327  ...           1           1       4111\n",
       " 15235.0         218      143        143  ...           1           1       4111\n",
       " 15665.0         168      116        116  ...           1           1       4111\n",
       " 17406.0         333      113        113  ...           1           1       4111\n",
       " 12501.0         337      149        149  ...           1           1       4111\n",
       " 14461.0         148      180        180  ...           1           1       4111\n",
       " 18231.0         192      124        124  ...           1           1       4111\n",
       " 17337.0         151      543        543  ...           1           1       4111\n",
       " 17787.0         153      134        134  ...           1           1       4111\n",
       " 14245.0         220      108        108  ...           1           1       4111\n",
       " \n",
       " [21 rows x 9 columns],\n",
       " 'lost_cheap':             recency  breadth  frequency  ...  m_quartile  b_quartile  rfmbScore\n",
       " CustomerID                               ...                                   \n",
       " 13932.0         295       16         16  ...           4           4       4444\n",
       " 17334.0         302       11         11  ...           4           4       4444\n",
       " 15087.0         282       15         15  ...           4           4       4444\n",
       " 13762.0         219        7          7  ...           4           4       4444\n",
       " 13718.0         246       12         12  ...           4           4       4444\n",
       " ...             ...      ...        ...  ...         ...         ...        ...\n",
       " 17102.0         262        1          1  ...           4           4       4444\n",
       " 15823.0         372        1          1  ...           4           4       4444\n",
       " 17763.0         263        1          1  ...           4           4       4444\n",
       " 17956.0         249        1          1  ...           4           4       4444\n",
       " 16738.0         298        1          1  ...           4           4       4444\n",
       " \n",
       " [385 rows x 9 columns],\n",
       " 'loyal':             recency  breadth  frequency  ...  m_quartile  b_quartile  rfmbScore\n",
       " CustomerID                               ...                                   \n",
       " 14646.0           2     2076       2076  ...           1           1       1111\n",
       " 18102.0           1      431        431  ...           1           1       1111\n",
       " 17450.0           8      337        337  ...           1           1       1111\n",
       " 14911.0           1     5675       5675  ...           1           1       1111\n",
       " 12415.0          24      714        714  ...           1           1       2111\n",
       " ...             ...      ...        ...  ...         ...         ...        ...\n",
       " 15872.0          15      128        128  ...           3           1       1131\n",
       " 15880.0         369      105        105  ...           3           1       4131\n",
       " 15060.0           8      121        121  ...           4           1       1141\n",
       " 15054.0          12      114        114  ...           4           1       1141\n",
       " 17254.0           5      112        112  ...           4           1       1141\n",
       " \n",
       " [1080 rows x 9 columns],\n",
       " 'ranged':             recency  breadth  frequency  ...  m_quartile  b_quartile  rfmbScore\n",
       " CustomerID                               ...                                   \n",
       " 14646.0           2     2076       2076  ...           1           1       1111\n",
       " 18102.0           1      431        431  ...           1           1       1111\n",
       " 17450.0           8      337        337  ...           1           1       1111\n",
       " 14911.0           1     5675       5675  ...           1           1       1111\n",
       " 12415.0          24      714        714  ...           1           1       2111\n",
       " ...             ...      ...        ...  ...         ...         ...        ...\n",
       " 15872.0          15      128        128  ...           3           1       1131\n",
       " 15880.0         369      105        105  ...           3           1       4131\n",
       " 15060.0           8      121        121  ...           4           1       1141\n",
       " 15054.0          12      114        114  ...           4           1       1141\n",
       " 17254.0           5      112        112  ...           4           1       1141\n",
       " \n",
       " [1080 rows x 9 columns]}"
      ]
     },
     "execution_count": 13,
     "metadata": {
      "tags": []
     },
     "output_type": "execute_result"
    }
   ],
   "source": [
    "segmented_rfmb"
   ]
  },
  {
   "cell_type": "code",
   "execution_count": 11,
   "metadata": {
    "id": "ctiZQKLSOgkm"
   },
   "outputs": [],
   "source": []
  },
  {
   "cell_type": "code",
   "execution_count": 11,
   "metadata": {
    "id": "C9a3KjhC-b01"
   },
   "outputs": [],
   "source": []
  },
  {
   "cell_type": "code",
   "execution_count": 11,
   "metadata": {
    "id": "-2VTOVhdpE03"
   },
   "outputs": [],
   "source": []
  }
 ],
 "metadata": {
  "colab": {
   "collapsed_sections": [],
   "name": "RFMB.ipynb",
   "provenance": []
  },
  "kernelspec": {
   "display_name": "Python 3",
   "language": "python",
   "name": "python3"
  },
  "language_info": {
   "codemirror_mode": {
    "name": "ipython",
    "version": 3
   },
   "file_extension": ".py",
   "mimetype": "text/x-python",
   "name": "python",
   "nbconvert_exporter": "python",
   "pygments_lexer": "ipython3",
   "version": "3.8.5"
  }
 },
 "nbformat": 4,
 "nbformat_minor": 1
}
