{
 "cells": [
  {
   "cell_type": "markdown",
   "metadata": {
    "id": "B9u4CdTSyMyo"
   },
   "source": [
    "\n",
    "## Summary\n",
    "1. Domain Introduction\n",
    "2. Problem Statement\n",
    "3. Data Description\n",
    "4. Loading the data\n",
    "5. Inspecting the data\n",
    "6. Cohort Analysis: Retention Rate\n",
    "  - Month Extraction from Inovicedate column\n",
    "  - Assigning Cohort to Each Transaction\n",
    "  - Assigning Cohort Index to each transaction\n",
    "  - Calculating number of unique customers in each Group of (ChortDate,Index)\n",
    "  - Creating Cohort Table for Retention Rate\n",
    "  - Creating the Cohort Chart using the Cohort Table\n",
    "\n",
    "7. Cohort Analysis: Total Revenue Generated\n",
    "7. Cohort Analysis: Total Quantity Purchased\n",
    "9. Conclusion\n",
    "\n",
    "\n",
    "\n",
    "## 1. Domain Introduction: \n",
    "### Customer Segmentation:\n",
    "Customer segmentation is the practice of dividing a customer base into groups of individuals that are similar in specific ways relevant to marketing, such as age, gender, interests and spending habits.\n",
    "\n",
    "Customer segmentation relies on identifying key differentiators that divide customers into groups that can be targeted. Information such as a customer's: \n",
    "\n",
    "- Demographics (age, race, religion, gender, family size, ethnicity, income, education level)\n",
    "- Geography (where they live and work)\n",
    "- Psychographic (social class, lifestyle and personality characteristics) \n",
    "- Behavioral (spending, consumption, usage and desired benefits) tendencies \n",
    "are taken into account when determining customer segmentation practices.\n",
    "\n",
    "In this Data Tale we will focus on behavioral Tendencies in order to group Customers into following two categories:\n",
    "- Loyal Customers\n",
    "- High Spending Customers\n",
    "\n",
    "\n",
    "#### Cohort:\n",
    "A cohort is a group of users sharing a particular characteristic. Strictly speaking it can be any characteristic, but typically the term cohort refers to a time-dependent grouping. For example, a typical cohort groups users by the week or month when they were first acquired. When speaking of groupings that are not time-dependent, the term segment is typically used instead of cohort.\n",
    "\n",
    "#### Cohort Analysis:\n",
    "Cohort analysis refers to tracking and investigating the performance of cohorts over time.\n",
    "\n",
    "For example, if you wanted to see if users you’re acquiring now are more or less valuable than users you’ve acquired in the past, you can define cohorts by the month when they were first acquired. You can then run a cohort analysis to compare year-over-year revenue performance. You can also use cohort Analysis to group users/Customers.\n"
   ]
  },
  {
   "cell_type": "markdown",
   "metadata": {
    "id": "puMLJA_63eeA"
   },
   "source": [
    "#### Key Advantages of Cohort Analysis:\n",
    "\n",
    "- Identify issues sooner: you may see disturbing trends in newer cohorts that would otherwise be masked by the rest of the user base until they affect enough cohorts for you to notice in top-line metrics\n",
    "\n",
    "- Build more accurate forecasts: knowing seasonal behaviors, you can incorporate those into your expectations of future performance from that set of users\n",
    "- Help understanding the customer behaviour, seasonality impact, and how business changes with Time"
   ]
  },
  {
   "cell_type": "markdown",
   "metadata": {
    "id": "hVhMxLD-4oxi"
   },
   "source": [
    "#### Cohort Analysis can answer questions like:\n",
    "\n",
    "\n",
    "1. Are the new cohorts you’re acquiring more (or less) valuable than previous users?\n",
    "\n",
    "2. Have changes you’ve made to your site impacted users who are new to your site?\n",
    "\n",
    "3. Are there seasonal differences between users you acquire? \n",
    "\n",
    "4. What is the retention rate of your users?\n",
    "\n",
    "5. What is the long term value of your users?\n",
    "\n",
    "6. When do users start to churn?"
   ]
  },
  {
   "cell_type": "markdown",
   "metadata": {
    "id": "VDDSPu6wzC7U"
   },
   "source": [
    "## 2. Problem Statement\n",
    "In this Data Tale, we will perform Time Cohort Analysis.\n",
    "Time based Cohort analysis groups the customer by the time they completed their first activity.\n",
    "\n",
    "The flow of this Analysis will be:\n",
    "- Segment customers into cohorts based on the month they made their first purchase in.\n",
    "-  We will then assign a cohort index to each purchase of all the customer. i.e we will mark each transaction based on that customers relative time period difference since his first purchase(Cohort he belongs to).\n",
    "- Cohort Index assigned  will represent months since the 1st transaction of that particular customer.\n",
    "\n",
    "- In the Last step, we will calculate various business metrics such as retention rate or Revenue Generated with respect to each Cohort or Quantity Purchased with respect to each Cohort and build a Cohort Chart using Heatmap to represent the results.\n"
   ]
  },
  {
   "cell_type": "markdown",
   "metadata": {
    "id": "-7YAw2gKlEBf"
   },
   "source": [
    "## 3. Data Desription:\n",
    "#### About the dataset.\n",
    "We will use a randomly subsampled subset of the very popular transactional dataset provided by UCI machine Learning Laboratory.\n",
    "\n",
    "\n",
    "**Data Set Information:**\n",
    "\n",
    "This is a transactional data set which contains the transactions occurring between 01/12/2010 and 09/12/2011 for the UK-based a ndregistered non-store online retail firm and contains realistic customer Transaction information in a commonly used format in Industry.\n",
    "\n",
    "\n",
    "#### Information related to attributes of Dataset is:\n",
    "\n",
    "- **InvoiceNo**: Invoice number. Nominal, a 6-digit integral number uniquely assigned to each transaction. \n",
    "- **StockCode**: Product (item) code. Nominal, a 5-digit integral number uniquely assigned to each distinct product. \n",
    "- **Description**: Product (item) name. Nominal. \n",
    "- **Quantity**: The quantities of each product (item) per transaction. Numeric.\n",
    "- **InvoiceDate**: Invice Date and time. Numeric, the day and time when each transaction was generated. \n",
    "- **UnitPrice**: Unit price. Numeric, Product price per unit in sterling. \n",
    "- **CustomerID**: Customer number. Nominal, a 5-digit integral number uniquely assigned to each customer. \n",
    "- **Country**: Country name. Nominal, the name of the country where each customer resides."
   ]
  },
  {
   "cell_type": "markdown",
   "metadata": {
    "id": "0NvDEa4a2VnQ"
   },
   "source": [
    "## 4. Loading the Dataset:\n",
    "\n",
    "Let's import pandas and numpy libaries to perform necessary calculations."
   ]
  },
  {
   "cell_type": "code",
   "execution_count": null,
   "metadata": {
    "id": "XrS7D2et2X6W"
   },
   "outputs": [],
   "source": [
    "import pandas as pd\n",
    "import numpy as np"
   ]
  },
  {
   "cell_type": "code",
   "execution_count": null,
   "metadata": {
    "colab": {
     "base_uri": "https://localhost:8080/"
    },
    "id": "WsO1ru3SniWV",
    "outputId": "cea900c8-c30e-42b4-c524-a38b7bba7c4f"
   },
   "outputs": [
    {
     "name": "stdout",
     "output_type": "stream",
     "text": [
      "mkdir: cannot create directory ‘/root/.kaggle’: File exists\n",
      "cp: '/root/.kaggle/kaggle.json' and '/root/.kaggle/kaggle.json' are the same file\n",
      "- path is now set to: {/content}\n",
      "online-retail.zip: Skipping, found more recently modified local copy (use --force to force download)\n"
     ]
    }
   ],
   "source": [
    "#creating a directory\n",
    "!mkdir ~/.kaggle\n",
    "#using credentials to open kaggle dataset\n",
    "import json\n",
    "token = {\"username\":\"enter your kaggle username\",\"key\":\"enter your kaggle user key\"}\n",
    "with open('/root/.kaggle/kaggle.json', 'w') as file:\n",
    "    json.dump(token, file)\n",
    "!cp /root/.kaggle/kaggle.json ~/.kaggle/kaggle.json\n",
    "!kaggle config set -n path -v{/content}\n",
    "!chmod 600 /root/.kaggle/kaggle.json\n",
    "#downloading the zipped dataset folder on cloud\n",
    "!kaggle datasets download -d mrmining/online-retail -p /content    "
   ]
  },
  {
   "cell_type": "code",
   "execution_count": null,
   "metadata": {
    "colab": {
     "base_uri": "https://localhost:8080/"
    },
    "id": "FB558s3BniZQ",
    "outputId": "b3151e42-fc99-4db9-e6ef-549fbb824a7c"
   },
   "outputs": [
    {
     "name": "stdout",
     "output_type": "stream",
     "text": [
      "Archive:  online-retail.zip\n",
      "replace Online Retail.xlsx? [y]es, [n]o, [A]ll, [N]one, [r]ename: N\n"
     ]
    }
   ],
   "source": [
    "#unzipping the folder\n",
    "!unzip \\*.zip"
   ]
  },
  {
   "cell_type": "code",
   "execution_count": null,
   "metadata": {
    "colab": {
     "base_uri": "https://localhost:8080/",
     "height": 204
    },
    "id": "emaunbwbyr99",
    "outputId": "82effd89-a3fe-4a24-9424-1a113cb4f6a7"
   },
   "outputs": [
    {
     "data": {
      "text/html": [
       "<div>\n",
       "<style scoped>\n",
       "    .dataframe tbody tr th:only-of-type {\n",
       "        vertical-align: middle;\n",
       "    }\n",
       "\n",
       "    .dataframe tbody tr th {\n",
       "        vertical-align: top;\n",
       "    }\n",
       "\n",
       "    .dataframe thead th {\n",
       "        text-align: right;\n",
       "    }\n",
       "</style>\n",
       "<table border=\"1\" class=\"dataframe\">\n",
       "  <thead>\n",
       "    <tr style=\"text-align: right;\">\n",
       "      <th></th>\n",
       "      <th>InvoiceNo</th>\n",
       "      <th>StockCode</th>\n",
       "      <th>lower</th>\n",
       "      <th>Description</th>\n",
       "      <th>Quantity</th>\n",
       "      <th>InvoiceDate</th>\n",
       "      <th>UnitPrice</th>\n",
       "      <th>CustomerID</th>\n",
       "      <th>Country</th>\n",
       "    </tr>\n",
       "  </thead>\n",
       "  <tbody>\n",
       "    <tr>\n",
       "      <th>0</th>\n",
       "      <td>536365</td>\n",
       "      <td>85123A</td>\n",
       "      <td>white hanging heart t-light holder</td>\n",
       "      <td>WHITE HANGING HEART T-LIGHT HOLDER</td>\n",
       "      <td>6</td>\n",
       "      <td>2010-12-01 08:26:00</td>\n",
       "      <td>2.55</td>\n",
       "      <td>17850.0</td>\n",
       "      <td>United Kingdom</td>\n",
       "    </tr>\n",
       "    <tr>\n",
       "      <th>1</th>\n",
       "      <td>536365</td>\n",
       "      <td>71053</td>\n",
       "      <td>white metal lantern</td>\n",
       "      <td>WHITE METAL LANTERN</td>\n",
       "      <td>6</td>\n",
       "      <td>2010-12-01 08:26:00</td>\n",
       "      <td>3.39</td>\n",
       "      <td>17850.0</td>\n",
       "      <td>United Kingdom</td>\n",
       "    </tr>\n",
       "    <tr>\n",
       "      <th>2</th>\n",
       "      <td>536365</td>\n",
       "      <td>84406B</td>\n",
       "      <td>cream cupid hearts coat hanger</td>\n",
       "      <td>CREAM CUPID HEARTS COAT HANGER</td>\n",
       "      <td>8</td>\n",
       "      <td>2010-12-01 08:26:00</td>\n",
       "      <td>2.75</td>\n",
       "      <td>17850.0</td>\n",
       "      <td>United Kingdom</td>\n",
       "    </tr>\n",
       "    <tr>\n",
       "      <th>3</th>\n",
       "      <td>536365</td>\n",
       "      <td>84029G</td>\n",
       "      <td>knitted union flag hot water bottle</td>\n",
       "      <td>KNITTED UNION FLAG HOT WATER BOTTLE</td>\n",
       "      <td>6</td>\n",
       "      <td>2010-12-01 08:26:00</td>\n",
       "      <td>3.39</td>\n",
       "      <td>17850.0</td>\n",
       "      <td>United Kingdom</td>\n",
       "    </tr>\n",
       "    <tr>\n",
       "      <th>4</th>\n",
       "      <td>536365</td>\n",
       "      <td>84029E</td>\n",
       "      <td>red woolly hottie white heart.</td>\n",
       "      <td>RED WOOLLY HOTTIE WHITE HEART.</td>\n",
       "      <td>6</td>\n",
       "      <td>2010-12-01 08:26:00</td>\n",
       "      <td>3.39</td>\n",
       "      <td>17850.0</td>\n",
       "      <td>United Kingdom</td>\n",
       "    </tr>\n",
       "  </tbody>\n",
       "</table>\n",
       "</div>"
      ],
      "text/plain": [
       "  InvoiceNo StockCode                                lower  \\\n",
       "0    536365    85123A   white hanging heart t-light holder   \n",
       "1    536365     71053                  white metal lantern   \n",
       "2    536365    84406B       cream cupid hearts coat hanger   \n",
       "3    536365    84029G  knitted union flag hot water bottle   \n",
       "4    536365    84029E       red woolly hottie white heart.   \n",
       "\n",
       "                           Description  Quantity         InvoiceDate  \\\n",
       "0   WHITE HANGING HEART T-LIGHT HOLDER         6 2010-12-01 08:26:00   \n",
       "1                  WHITE METAL LANTERN         6 2010-12-01 08:26:00   \n",
       "2       CREAM CUPID HEARTS COAT HANGER         8 2010-12-01 08:26:00   \n",
       "3  KNITTED UNION FLAG HOT WATER BOTTLE         6 2010-12-01 08:26:00   \n",
       "4       RED WOOLLY HOTTIE WHITE HEART.         6 2010-12-01 08:26:00   \n",
       "\n",
       "   UnitPrice  CustomerID         Country  \n",
       "0       2.55     17850.0  United Kingdom  \n",
       "1       3.39     17850.0  United Kingdom  \n",
       "2       2.75     17850.0  United Kingdom  \n",
       "3       3.39     17850.0  United Kingdom  \n",
       "4       3.39     17850.0  United Kingdom  "
      ]
     },
     "execution_count": 34,
     "metadata": {
      "tags": []
     },
     "output_type": "execute_result"
    }
   ],
   "source": [
    "# Reading transaction.csv into a dataframe with invoice column parsed as DateTime type instead of Object(string) and '0' column as Index\n",
    "df = pd.read_excel('Online Retail.xlsx')\n",
    "df.head()"
   ]
  },
  {
   "cell_type": "code",
   "execution_count": null,
   "metadata": {
    "colab": {
     "base_uri": "https://localhost:8080/",
     "height": 374
    },
    "id": "QZDrCm6FOKvi",
    "outputId": "2ba0bfc2-c6df-4605-dc42-1363df6ace84"
   },
   "outputs": [
    {
     "data": {
      "text/html": [
       "<div>\n",
       "<style scoped>\n",
       "    .dataframe tbody tr th:only-of-type {\n",
       "        vertical-align: middle;\n",
       "    }\n",
       "\n",
       "    .dataframe tbody tr th {\n",
       "        vertical-align: top;\n",
       "    }\n",
       "\n",
       "    .dataframe thead th {\n",
       "        text-align: right;\n",
       "    }\n",
       "</style>\n",
       "<table border=\"1\" class=\"dataframe\">\n",
       "  <thead>\n",
       "    <tr style=\"text-align: right;\">\n",
       "      <th></th>\n",
       "      <th>InvoiceNo</th>\n",
       "      <th>StockCode</th>\n",
       "      <th>lower</th>\n",
       "      <th>Description</th>\n",
       "      <th>Quantity</th>\n",
       "      <th>InvoiceDate</th>\n",
       "      <th>UnitPrice</th>\n",
       "      <th>CustomerID</th>\n",
       "      <th>Country</th>\n",
       "      <th>InvoiceMonth</th>\n",
       "      <th>CohortMonth</th>\n",
       "      <th>CohortIndex</th>\n",
       "      <th>Revenue</th>\n",
       "    </tr>\n",
       "  </thead>\n",
       "  <tbody>\n",
       "    <tr>\n",
       "      <th>0</th>\n",
       "      <td>536365</td>\n",
       "      <td>85123A</td>\n",
       "      <td>white hanging heart t-light holder</td>\n",
       "      <td>WHITE HANGING HEART T-LIGHT HOLDER</td>\n",
       "      <td>6</td>\n",
       "      <td>2010-12-01 08:26:00</td>\n",
       "      <td>2.55</td>\n",
       "      <td>17850.0</td>\n",
       "      <td>United Kingdom</td>\n",
       "      <td>2010-12-01</td>\n",
       "      <td>2010-12-01</td>\n",
       "      <td>1.0</td>\n",
       "      <td>15.30</td>\n",
       "    </tr>\n",
       "    <tr>\n",
       "      <th>1</th>\n",
       "      <td>536365</td>\n",
       "      <td>71053</td>\n",
       "      <td>white metal lantern</td>\n",
       "      <td>WHITE METAL LANTERN</td>\n",
       "      <td>6</td>\n",
       "      <td>2010-12-01 08:26:00</td>\n",
       "      <td>3.39</td>\n",
       "      <td>17850.0</td>\n",
       "      <td>United Kingdom</td>\n",
       "      <td>2010-12-01</td>\n",
       "      <td>2010-12-01</td>\n",
       "      <td>1.0</td>\n",
       "      <td>20.34</td>\n",
       "    </tr>\n",
       "    <tr>\n",
       "      <th>2</th>\n",
       "      <td>536365</td>\n",
       "      <td>84406B</td>\n",
       "      <td>cream cupid hearts coat hanger</td>\n",
       "      <td>CREAM CUPID HEARTS COAT HANGER</td>\n",
       "      <td>8</td>\n",
       "      <td>2010-12-01 08:26:00</td>\n",
       "      <td>2.75</td>\n",
       "      <td>17850.0</td>\n",
       "      <td>United Kingdom</td>\n",
       "      <td>2010-12-01</td>\n",
       "      <td>2010-12-01</td>\n",
       "      <td>1.0</td>\n",
       "      <td>22.00</td>\n",
       "    </tr>\n",
       "    <tr>\n",
       "      <th>3</th>\n",
       "      <td>536365</td>\n",
       "      <td>84029G</td>\n",
       "      <td>knitted union flag hot water bottle</td>\n",
       "      <td>KNITTED UNION FLAG HOT WATER BOTTLE</td>\n",
       "      <td>6</td>\n",
       "      <td>2010-12-01 08:26:00</td>\n",
       "      <td>3.39</td>\n",
       "      <td>17850.0</td>\n",
       "      <td>United Kingdom</td>\n",
       "      <td>2010-12-01</td>\n",
       "      <td>2010-12-01</td>\n",
       "      <td>1.0</td>\n",
       "      <td>20.34</td>\n",
       "    </tr>\n",
       "    <tr>\n",
       "      <th>4</th>\n",
       "      <td>536365</td>\n",
       "      <td>84029E</td>\n",
       "      <td>red woolly hottie white heart.</td>\n",
       "      <td>RED WOOLLY HOTTIE WHITE HEART.</td>\n",
       "      <td>6</td>\n",
       "      <td>2010-12-01 08:26:00</td>\n",
       "      <td>3.39</td>\n",
       "      <td>17850.0</td>\n",
       "      <td>United Kingdom</td>\n",
       "      <td>2010-12-01</td>\n",
       "      <td>2010-12-01</td>\n",
       "      <td>1.0</td>\n",
       "      <td>20.34</td>\n",
       "    </tr>\n",
       "  </tbody>\n",
       "</table>\n",
       "</div>"
      ],
      "text/plain": [
       "  InvoiceNo StockCode                                lower  \\\n",
       "0    536365    85123A   white hanging heart t-light holder   \n",
       "1    536365     71053                  white metal lantern   \n",
       "2    536365    84406B       cream cupid hearts coat hanger   \n",
       "3    536365    84029G  knitted union flag hot water bottle   \n",
       "4    536365    84029E       red woolly hottie white heart.   \n",
       "\n",
       "                           Description  Quantity         InvoiceDate  \\\n",
       "0   WHITE HANGING HEART T-LIGHT HOLDER         6 2010-12-01 08:26:00   \n",
       "1                  WHITE METAL LANTERN         6 2010-12-01 08:26:00   \n",
       "2       CREAM CUPID HEARTS COAT HANGER         8 2010-12-01 08:26:00   \n",
       "3  KNITTED UNION FLAG HOT WATER BOTTLE         6 2010-12-01 08:26:00   \n",
       "4       RED WOOLLY HOTTIE WHITE HEART.         6 2010-12-01 08:26:00   \n",
       "\n",
       "   UnitPrice  CustomerID         Country InvoiceMonth CohortMonth  \\\n",
       "0       2.55     17850.0  United Kingdom   2010-12-01  2010-12-01   \n",
       "1       3.39     17850.0  United Kingdom   2010-12-01  2010-12-01   \n",
       "2       2.75     17850.0  United Kingdom   2010-12-01  2010-12-01   \n",
       "3       3.39     17850.0  United Kingdom   2010-12-01  2010-12-01   \n",
       "4       3.39     17850.0  United Kingdom   2010-12-01  2010-12-01   \n",
       "\n",
       "   CohortIndex  Revenue  \n",
       "0          1.0    15.30  \n",
       "1          1.0    20.34  \n",
       "2          1.0    22.00  \n",
       "3          1.0    20.34  \n",
       "4          1.0    20.34  "
      ]
     },
     "execution_count": 60,
     "metadata": {
      "tags": []
     },
     "output_type": "execute_result"
    }
   ],
   "source": [
    "# dropping duplicate values\n",
    "df.drop_duplicates(keep='first',inplace=True)\n",
    "df.head()"
   ]
  },
  {
   "cell_type": "markdown",
   "metadata": {
    "id": "obCR3-Ms3qtS"
   },
   "source": [
    "The dataset contains 7 columns for each customer transaction representing variuos features of a transaction.\n",
    "\n",
    "For time cohort analysis, we will use:\n",
    "- DateTime column\n",
    "- Price Column\n",
    "- CustomerID column.\n",
    "\n",
    "The dataset has been loaded. \n",
    "Let's understand more about the dataset in next section.\n",
    "\n",
    "\n",
    "\n",
    "\n"
   ]
  },
  {
   "cell_type": "markdown",
   "metadata": {
    "id": "CQgE_DUjnSZn"
   },
   "source": [
    "## 5. Inspecting the Data"
   ]
  },
  {
   "cell_type": "markdown",
   "metadata": {
    "id": "hrHFhYt7sc_N"
   },
   "source": [
    "Let's check the information related to datatypes and Columns in Data Set"
   ]
  },
  {
   "cell_type": "code",
   "execution_count": null,
   "metadata": {
    "colab": {
     "base_uri": "https://localhost:8080/"
    },
    "id": "rd82F915-wBg",
    "outputId": "945cb154-d3fe-46ca-9f0b-d2569f8f0ed7"
   },
   "outputs": [
    {
     "name": "stdout",
     "output_type": "stream",
     "text": [
      "<class 'pandas.core.frame.DataFrame'>\n",
      "Int64Index: 536641 entries, 0 to 541908\n",
      "Data columns (total 13 columns):\n",
      " #   Column        Non-Null Count   Dtype         \n",
      "---  ------        --------------   -----         \n",
      " 0   InvoiceNo     536641 non-null  object        \n",
      " 1   StockCode     536641 non-null  object        \n",
      " 2   lower         1780 non-null    object        \n",
      " 3   Description   535187 non-null  object        \n",
      " 4   Quantity      536641 non-null  int64         \n",
      " 5   InvoiceDate   536641 non-null  datetime64[ns]\n",
      " 6   UnitPrice     536641 non-null  float64       \n",
      " 7   CustomerID    401604 non-null  float64       \n",
      " 8   Country       536641 non-null  object        \n",
      " 9   InvoiceMonth  536641 non-null  datetime64[ns]\n",
      " 10  CohortMonth   401604 non-null  datetime64[ns]\n",
      " 11  CohortIndex   401604 non-null  float64       \n",
      " 12  Revenue       536641 non-null  float64       \n",
      "dtypes: datetime64[ns](3), float64(4), int64(1), object(5)\n",
      "memory usage: 57.3+ MB\n"
     ]
    }
   ],
   "source": [
    "df.info()"
   ]
  },
  {
   "cell_type": "markdown",
   "metadata": {
    "id": "wsSgJrZKsnMg"
   },
   "source": [
    "- There are 8 atttributes and 70864 Data Points in our Data Set.\n",
    "- 4 of them are numeric while one is Data Type and 3 are Object types.\n",
    "- There is no Missing Value in any of the Columns.\n",
    "\n",
    "Let's Move ahead and check the Numerical Variables:\n"
   ]
  },
  {
   "cell_type": "code",
   "execution_count": null,
   "metadata": {
    "colab": {
     "base_uri": "https://localhost:8080/",
     "height": 297
    },
    "id": "QePFPHw4tV_K",
    "outputId": "72554ffa-8574-4385-99bf-8ea141a7bb48"
   },
   "outputs": [
    {
     "data": {
      "text/html": [
       "<div>\n",
       "<style scoped>\n",
       "    .dataframe tbody tr th:only-of-type {\n",
       "        vertical-align: middle;\n",
       "    }\n",
       "\n",
       "    .dataframe tbody tr th {\n",
       "        vertical-align: top;\n",
       "    }\n",
       "\n",
       "    .dataframe thead th {\n",
       "        text-align: right;\n",
       "    }\n",
       "</style>\n",
       "<table border=\"1\" class=\"dataframe\">\n",
       "  <thead>\n",
       "    <tr style=\"text-align: right;\">\n",
       "      <th></th>\n",
       "      <th>Quantity</th>\n",
       "      <th>UnitPrice</th>\n",
       "      <th>CustomerID</th>\n",
       "      <th>CohortIndex</th>\n",
       "      <th>Revenue</th>\n",
       "    </tr>\n",
       "  </thead>\n",
       "  <tbody>\n",
       "    <tr>\n",
       "      <th>count</th>\n",
       "      <td>536641.000000</td>\n",
       "      <td>536641.000000</td>\n",
       "      <td>401604.000000</td>\n",
       "      <td>401604.000000</td>\n",
       "      <td>536641.000000</td>\n",
       "    </tr>\n",
       "    <tr>\n",
       "      <th>mean</th>\n",
       "      <td>9.620029</td>\n",
       "      <td>4.632656</td>\n",
       "      <td>15281.160818</td>\n",
       "      <td>5.187227</td>\n",
       "      <td>18.123861</td>\n",
       "    </tr>\n",
       "    <tr>\n",
       "      <th>std</th>\n",
       "      <td>219.130156</td>\n",
       "      <td>97.233118</td>\n",
       "      <td>1714.006089</td>\n",
       "      <td>3.856358</td>\n",
       "      <td>380.656263</td>\n",
       "    </tr>\n",
       "    <tr>\n",
       "      <th>min</th>\n",
       "      <td>-80995.000000</td>\n",
       "      <td>-11062.060000</td>\n",
       "      <td>12346.000000</td>\n",
       "      <td>1.000000</td>\n",
       "      <td>-168469.600000</td>\n",
       "    </tr>\n",
       "    <tr>\n",
       "      <th>25%</th>\n",
       "      <td>1.000000</td>\n",
       "      <td>1.250000</td>\n",
       "      <td>13939.000000</td>\n",
       "      <td>1.000000</td>\n",
       "      <td>3.750000</td>\n",
       "    </tr>\n",
       "    <tr>\n",
       "      <th>50%</th>\n",
       "      <td>3.000000</td>\n",
       "      <td>2.080000</td>\n",
       "      <td>15145.000000</td>\n",
       "      <td>4.000000</td>\n",
       "      <td>9.870000</td>\n",
       "    </tr>\n",
       "    <tr>\n",
       "      <th>75%</th>\n",
       "      <td>10.000000</td>\n",
       "      <td>4.130000</td>\n",
       "      <td>16784.000000</td>\n",
       "      <td>8.000000</td>\n",
       "      <td>17.400000</td>\n",
       "    </tr>\n",
       "    <tr>\n",
       "      <th>max</th>\n",
       "      <td>80995.000000</td>\n",
       "      <td>38970.000000</td>\n",
       "      <td>18287.000000</td>\n",
       "      <td>13.000000</td>\n",
       "      <td>168469.600000</td>\n",
       "    </tr>\n",
       "  </tbody>\n",
       "</table>\n",
       "</div>"
      ],
      "text/plain": [
       "            Quantity      UnitPrice     CustomerID    CohortIndex  \\\n",
       "count  536641.000000  536641.000000  401604.000000  401604.000000   \n",
       "mean        9.620029       4.632656   15281.160818       5.187227   \n",
       "std       219.130156      97.233118    1714.006089       3.856358   \n",
       "min    -80995.000000  -11062.060000   12346.000000       1.000000   \n",
       "25%         1.000000       1.250000   13939.000000       1.000000   \n",
       "50%         3.000000       2.080000   15145.000000       4.000000   \n",
       "75%        10.000000       4.130000   16784.000000       8.000000   \n",
       "max     80995.000000   38970.000000   18287.000000      13.000000   \n",
       "\n",
       "             Revenue  \n",
       "count  536641.000000  \n",
       "mean       18.123861  \n",
       "std       380.656263  \n",
       "min   -168469.600000  \n",
       "25%         3.750000  \n",
       "50%         9.870000  \n",
       "75%        17.400000  \n",
       "max    168469.600000  "
      ]
     },
     "execution_count": 62,
     "metadata": {
      "tags": []
     },
     "output_type": "execute_result"
    }
   ],
   "source": [
    "df.describe()"
   ]
  },
  {
   "cell_type": "code",
   "execution_count": null,
   "metadata": {
    "id": "GloUhTPUNl5R"
   },
   "outputs": [],
   "source": []
  },
  {
   "cell_type": "markdown",
   "metadata": {
    "id": "a85vQVCSuA-K"
   },
   "source": [
    "Also Checking unique CustomerID's and Date Range"
   ]
  },
  {
   "cell_type": "code",
   "execution_count": null,
   "metadata": {
    "colab": {
     "base_uri": "https://localhost:8080/"
    },
    "id": "eIb5xQKKuUFf",
    "outputId": "cce49566-8105-4e0a-eeff-a7950f6abc40"
   },
   "outputs": [
    {
     "data": {
      "text/plain": [
       "4372"
      ]
     },
     "execution_count": 63,
     "metadata": {
      "tags": []
     },
     "output_type": "execute_result"
    }
   ],
   "source": [
    "df.CustomerID.nunique()"
   ]
  },
  {
   "cell_type": "code",
   "execution_count": null,
   "metadata": {
    "colab": {
     "base_uri": "https://localhost:8080/"
    },
    "id": "pcnOyTAHSDSy",
    "outputId": "448aef82-8ec4-42b0-f714-6318aeb255bb"
   },
   "outputs": [
    {
     "name": "stdout",
     "output_type": "stream",
     "text": [
      "Min:2010-12-01 08:26:00; Max:2011-12-09 12:50:00\n"
     ]
    }
   ],
   "source": [
    "print('Min:{}; Max:{}'.format(min(df.InvoiceDate),max(df.InvoiceDate)))"
   ]
  },
  {
   "cell_type": "markdown",
   "metadata": {
    "id": "dyXgwGictbQR"
   },
   "source": [
    "## 6. Cohort Analysis: Retention Rate\n",
    "Since, We will be performing Cohort Analysis based on Transaction records of Customers, we will be Dealing with Mainly:\n",
    "- Invoice Data\n",
    "- CustomerID\n",
    "- Price \n",
    "- and Quantity columns in this Analsyis.\n",
    "\n",
    "The Following steps will performed to generate the Cohort Chart of Retention Rate :\n",
    "- **Month Extraction from InvioceDate column**\n",
    "- **Assigning Cohort to Each Transaction**\n",
    "- **Assigning Cohort Index to each transaction**\n",
    "- **Calculating number of unique customers in each Group of (ChortDate,Index)**\n",
    "- **Creating Cohort Table for Retention Rate**\n",
    "- **Creating the Cohort Chart using the Cohort Table**\n",
    "\n",
    "The Detailed information about each step is given below:"
   ]
  },
  {
   "cell_type": "markdown",
   "metadata": {
    "id": "4DEyoEgZpDvD"
   },
   "source": [
    "\n",
    "### Step 1: Let's extract the Month of the Purchase of each transaction."
   ]
  },
  {
   "cell_type": "markdown",
   "metadata": {
    "id": "p2tG0Nkr49Mn"
   },
   "source": [
    "#### First we will create a function, which takes any date and returns the formatted date with day value as 1st of the same month and Year."
   ]
  },
  {
   "cell_type": "code",
   "execution_count": null,
   "metadata": {
    "id": "177QxqHe997v"
   },
   "outputs": [],
   "source": [
    "# importing DateTime module to convert extracted dates\n",
    "import datetime as dt\n",
    "\n",
    "# Defining the function that will parse the date and return 1st day of respective month\n",
    "def extract_month(date_value):\n",
    "  return dt.datetime(date_value.year, date_value.month, 1)"
   ]
  },
  {
   "cell_type": "markdown",
   "metadata": {
    "id": "B2Fmq87YAxNd"
   },
   "source": [
    "#### Now we will use the function created above to convert all the invoice dates into respective month date format."
   ]
  },
  {
   "cell_type": "code",
   "execution_count": null,
   "metadata": {
    "colab": {
     "base_uri": "https://localhost:8080/",
     "height": 204
    },
    "id": "ynfBCIS5-8uQ",
    "outputId": "1da9f29a-b021-428d-be72-9e9ee5c8e1d7"
   },
   "outputs": [
    {
     "data": {
      "text/html": [
       "<div>\n",
       "<style scoped>\n",
       "    .dataframe tbody tr th:only-of-type {\n",
       "        vertical-align: middle;\n",
       "    }\n",
       "\n",
       "    .dataframe tbody tr th {\n",
       "        vertical-align: top;\n",
       "    }\n",
       "\n",
       "    .dataframe thead th {\n",
       "        text-align: right;\n",
       "    }\n",
       "</style>\n",
       "<table border=\"1\" class=\"dataframe\">\n",
       "  <thead>\n",
       "    <tr style=\"text-align: right;\">\n",
       "      <th></th>\n",
       "      <th>InvoiceDate</th>\n",
       "      <th>InvoiceMonth</th>\n",
       "    </tr>\n",
       "  </thead>\n",
       "  <tbody>\n",
       "    <tr>\n",
       "      <th>0</th>\n",
       "      <td>2010-12-01 08:26:00</td>\n",
       "      <td>2010-12-01</td>\n",
       "    </tr>\n",
       "    <tr>\n",
       "      <th>1</th>\n",
       "      <td>2010-12-01 08:26:00</td>\n",
       "      <td>2010-12-01</td>\n",
       "    </tr>\n",
       "    <tr>\n",
       "      <th>2</th>\n",
       "      <td>2010-12-01 08:26:00</td>\n",
       "      <td>2010-12-01</td>\n",
       "    </tr>\n",
       "    <tr>\n",
       "      <th>3</th>\n",
       "      <td>2010-12-01 08:26:00</td>\n",
       "      <td>2010-12-01</td>\n",
       "    </tr>\n",
       "    <tr>\n",
       "      <th>4</th>\n",
       "      <td>2010-12-01 08:26:00</td>\n",
       "      <td>2010-12-01</td>\n",
       "    </tr>\n",
       "  </tbody>\n",
       "</table>\n",
       "</div>"
      ],
      "text/plain": [
       "          InvoiceDate InvoiceMonth\n",
       "0 2010-12-01 08:26:00   2010-12-01\n",
       "1 2010-12-01 08:26:00   2010-12-01\n",
       "2 2010-12-01 08:26:00   2010-12-01\n",
       "3 2010-12-01 08:26:00   2010-12-01\n",
       "4 2010-12-01 08:26:00   2010-12-01"
      ]
     },
     "execution_count": 66,
     "metadata": {
      "tags": []
     },
     "output_type": "execute_result"
    }
   ],
   "source": [
    "# Creating InvoiceMonth column using the function created in previous step\n",
    "df['InvoiceMonth'] = df['InvoiceDate'].apply(extract_month) \n",
    "df[['InvoiceDate','InvoiceMonth']].head()"
   ]
  },
  {
   "cell_type": "markdown",
   "metadata": {
    "id": "TehHJd5tqPcu"
   },
   "source": [
    "### Step 2: Now we will use the Invoice Month created in step1 to generate cohort Date values"
   ]
  },
  {
   "cell_type": "markdown",
   "metadata": {
    "id": "Ezp5CIMy8PZR"
   },
   "source": [
    "####  Creating a groupby object with respect to CustomerID variable, and selecting InvoiceDay for further calculations."
   ]
  },
  {
   "cell_type": "code",
   "execution_count": null,
   "metadata": {
    "id": "IKzK-9eB5abu"
   },
   "outputs": [],
   "source": [
    "group = df.groupby('CustomerID')['InvoiceMonth']"
   ]
  },
  {
   "cell_type": "markdown",
   "metadata": {
    "id": "DoEa5s1s59dM"
   },
   "source": [
    "#### Now let's assign the acquistion Cohort value to each transaction based on the minimum value of InvoiceMonth of the group it belongs to."
   ]
  },
  {
   "cell_type": "code",
   "execution_count": null,
   "metadata": {
    "colab": {
     "base_uri": "https://localhost:8080/",
     "height": 204
    },
    "id": "WQ87G4IE5-Pv",
    "outputId": "046de016-b96b-4744-cd67-783d88f678f4"
   },
   "outputs": [
    {
     "data": {
      "text/html": [
       "<div>\n",
       "<style scoped>\n",
       "    .dataframe tbody tr th:only-of-type {\n",
       "        vertical-align: middle;\n",
       "    }\n",
       "\n",
       "    .dataframe tbody tr th {\n",
       "        vertical-align: top;\n",
       "    }\n",
       "\n",
       "    .dataframe thead th {\n",
       "        text-align: right;\n",
       "    }\n",
       "</style>\n",
       "<table border=\"1\" class=\"dataframe\">\n",
       "  <thead>\n",
       "    <tr style=\"text-align: right;\">\n",
       "      <th></th>\n",
       "      <th>CustomerID</th>\n",
       "      <th>InvoiceDate</th>\n",
       "      <th>InvoiceMonth</th>\n",
       "      <th>CohortMonth</th>\n",
       "    </tr>\n",
       "  </thead>\n",
       "  <tbody>\n",
       "    <tr>\n",
       "      <th>0</th>\n",
       "      <td>17850.0</td>\n",
       "      <td>2010-12-01 08:26:00</td>\n",
       "      <td>2010-12-01</td>\n",
       "      <td>2010-12-01</td>\n",
       "    </tr>\n",
       "    <tr>\n",
       "      <th>1</th>\n",
       "      <td>17850.0</td>\n",
       "      <td>2010-12-01 08:26:00</td>\n",
       "      <td>2010-12-01</td>\n",
       "      <td>2010-12-01</td>\n",
       "    </tr>\n",
       "    <tr>\n",
       "      <th>2</th>\n",
       "      <td>17850.0</td>\n",
       "      <td>2010-12-01 08:26:00</td>\n",
       "      <td>2010-12-01</td>\n",
       "      <td>2010-12-01</td>\n",
       "    </tr>\n",
       "    <tr>\n",
       "      <th>3</th>\n",
       "      <td>17850.0</td>\n",
       "      <td>2010-12-01 08:26:00</td>\n",
       "      <td>2010-12-01</td>\n",
       "      <td>2010-12-01</td>\n",
       "    </tr>\n",
       "    <tr>\n",
       "      <th>4</th>\n",
       "      <td>17850.0</td>\n",
       "      <td>2010-12-01 08:26:00</td>\n",
       "      <td>2010-12-01</td>\n",
       "      <td>2010-12-01</td>\n",
       "    </tr>\n",
       "  </tbody>\n",
       "</table>\n",
       "</div>"
      ],
      "text/plain": [
       "   CustomerID         InvoiceDate InvoiceMonth CohortMonth\n",
       "0     17850.0 2010-12-01 08:26:00   2010-12-01  2010-12-01\n",
       "1     17850.0 2010-12-01 08:26:00   2010-12-01  2010-12-01\n",
       "2     17850.0 2010-12-01 08:26:00   2010-12-01  2010-12-01\n",
       "3     17850.0 2010-12-01 08:26:00   2010-12-01  2010-12-01\n",
       "4     17850.0 2010-12-01 08:26:00   2010-12-01  2010-12-01"
      ]
     },
     "execution_count": 68,
     "metadata": {
      "tags": []
     },
     "output_type": "execute_result"
    }
   ],
   "source": [
    "df['CohortMonth'] = group.transform('min')\n",
    "df[['CustomerID','InvoiceDate','InvoiceMonth', 'CohortMonth']].head()"
   ]
  },
  {
   "cell_type": "markdown",
   "metadata": {
    "id": "ZHZkSD8xB1fC"
   },
   "source": [
    "### Step 3: Calculating time offset in Months i.e. Cohort Index:\n",
    "Calculating time offset for each transaction will allows us to report the metrics for each cohort in a comparable fashion.\n",
    "\n",
    "First, we will create 4 variables that capture the integer value of years, months  for Invoice and Cohort Date using the get_date_int() function given below:\n",
    "\n"
   ]
  },
  {
   "cell_type": "code",
   "execution_count": null,
   "metadata": {
    "id": "AhNKqpC-B5Ol"
   },
   "outputs": [],
   "source": [
    "def parse_dates_int(date_column):\n",
    "    year = date_column.dt.year\n",
    "    month = date_column.dt.month\n",
    "    \n",
    "    return year, month\n"
   ]
  },
  {
   "cell_type": "markdown",
   "metadata": {
    "id": "64DzUrmwCMwp"
   },
   "source": [
    "#### We will use this function to extract the integer values for Invoice as well as Cohort Date in 3 seperate series for each of the two columns\n"
   ]
  },
  {
   "cell_type": "code",
   "execution_count": null,
   "metadata": {
    "colab": {
     "base_uri": "https://localhost:8080/"
    },
    "id": "7mSwhEsFCZFZ",
    "outputId": "3fef0c78-bac9-46fb-a3df-19d990cdf959"
   },
   "outputs": [
    {
     "data": {
      "text/plain": [
       "(0    2010.0\n",
       " 1    2010.0\n",
       " 2    2010.0\n",
       " 3    2010.0\n",
       " 4    2010.0\n",
       " Name: CohortMonth, dtype: float64, 0    12.0\n",
       " 1    12.0\n",
       " 2    12.0\n",
       " 3    12.0\n",
       " 4    12.0\n",
       " Name: CohortMonth, dtype: float64)"
      ]
     },
     "execution_count": 70,
     "metadata": {
      "tags": []
     },
     "output_type": "execute_result"
    }
   ],
   "source": [
    "# Get the integers for date parts from the `InvoiceDay` column\n",
    "invoice_year, invoice_month = parse_dates_int(df['InvoiceDate'])\n",
    "\n",
    "# Get the integers for date parts from the `CohortDay` column\n",
    "cohort_year, cohort_month = parse_dates_int(df['CohortMonth'])\n",
    "\n",
    "# Printing top 5 of each series\n",
    "cohort_year.head(), cohort_month.head()"
   ]
  },
  {
   "cell_type": "markdown",
   "metadata": {
    "id": "Cu3wOG18MfuB"
   },
   "source": [
    "Now, we have 4  pandas series containing year, month and day values for Invoice and Cohort dates columns as: - **invoice_year, cohort_year, invoice_month and cohort_month** respectively."
   ]
  },
  {
   "cell_type": "markdown",
   "metadata": {
    "id": "hq_-I_zKB4pr"
   },
   "source": [
    "#### We will use the integer values extracted above to calculate business metrics for our time cohorts:\n",
    "- We will calculate the difference between the Invoice Dates and Cohort dates in years, months separately.\n",
    "- then calculate the total Months difference between the two. \n",
    "- This will be our Months offset or cohort Index, which we will use in the next section to calculate retention rate."
   ]
  },
  {
   "cell_type": "code",
   "execution_count": null,
   "metadata": {
    "id": "0JVNWPAGMRWS"
   },
   "outputs": [],
   "source": [
    "# Calculate difference in years\n",
    "years_diff = invoice_year - cohort_year\n",
    "\n",
    "# Calculate difference in months\n",
    "months_diff = invoice_month - cohort_month\n",
    "\n",
    "# Calculate difference in days\n",
    "# days_diff = invoice_day - cohort_day\n",
    "\n",
    "# Using the variables created above to calcualte the difference in days and storing them in cohort Index column\n",
    "df['CohortIndex'] = years_diff * 12 + months_diff+ 1"
   ]
  },
  {
   "cell_type": "code",
   "execution_count": null,
   "metadata": {
    "colab": {
     "base_uri": "https://localhost:8080/",
     "height": 204
    },
    "id": "MSIJgt1rN4X5",
    "outputId": "88d7728f-cc37-49e8-db09-38e9db08d95b"
   },
   "outputs": [
    {
     "data": {
      "text/html": [
       "<div>\n",
       "<style scoped>\n",
       "    .dataframe tbody tr th:only-of-type {\n",
       "        vertical-align: middle;\n",
       "    }\n",
       "\n",
       "    .dataframe tbody tr th {\n",
       "        vertical-align: top;\n",
       "    }\n",
       "\n",
       "    .dataframe thead th {\n",
       "        text-align: right;\n",
       "    }\n",
       "</style>\n",
       "<table border=\"1\" class=\"dataframe\">\n",
       "  <thead>\n",
       "    <tr style=\"text-align: right;\">\n",
       "      <th></th>\n",
       "      <th>CustomerID</th>\n",
       "      <th>InvoiceDate</th>\n",
       "      <th>InvoiceMonth</th>\n",
       "      <th>CohortMonth</th>\n",
       "      <th>CohortIndex</th>\n",
       "    </tr>\n",
       "  </thead>\n",
       "  <tbody>\n",
       "    <tr>\n",
       "      <th>0</th>\n",
       "      <td>17850.0</td>\n",
       "      <td>2010-12-01 08:26:00</td>\n",
       "      <td>2010-12-01</td>\n",
       "      <td>2010-12-01</td>\n",
       "      <td>1.0</td>\n",
       "    </tr>\n",
       "    <tr>\n",
       "      <th>1</th>\n",
       "      <td>17850.0</td>\n",
       "      <td>2010-12-01 08:26:00</td>\n",
       "      <td>2010-12-01</td>\n",
       "      <td>2010-12-01</td>\n",
       "      <td>1.0</td>\n",
       "    </tr>\n",
       "    <tr>\n",
       "      <th>2</th>\n",
       "      <td>17850.0</td>\n",
       "      <td>2010-12-01 08:26:00</td>\n",
       "      <td>2010-12-01</td>\n",
       "      <td>2010-12-01</td>\n",
       "      <td>1.0</td>\n",
       "    </tr>\n",
       "    <tr>\n",
       "      <th>3</th>\n",
       "      <td>17850.0</td>\n",
       "      <td>2010-12-01 08:26:00</td>\n",
       "      <td>2010-12-01</td>\n",
       "      <td>2010-12-01</td>\n",
       "      <td>1.0</td>\n",
       "    </tr>\n",
       "    <tr>\n",
       "      <th>4</th>\n",
       "      <td>17850.0</td>\n",
       "      <td>2010-12-01 08:26:00</td>\n",
       "      <td>2010-12-01</td>\n",
       "      <td>2010-12-01</td>\n",
       "      <td>1.0</td>\n",
       "    </tr>\n",
       "  </tbody>\n",
       "</table>\n",
       "</div>"
      ],
      "text/plain": [
       "   CustomerID         InvoiceDate InvoiceMonth CohortMonth  CohortIndex\n",
       "0     17850.0 2010-12-01 08:26:00   2010-12-01  2010-12-01          1.0\n",
       "1     17850.0 2010-12-01 08:26:00   2010-12-01  2010-12-01          1.0\n",
       "2     17850.0 2010-12-01 08:26:00   2010-12-01  2010-12-01          1.0\n",
       "3     17850.0 2010-12-01 08:26:00   2010-12-01  2010-12-01          1.0\n",
       "4     17850.0 2010-12-01 08:26:00   2010-12-01  2010-12-01          1.0"
      ]
     },
     "execution_count": 72,
     "metadata": {
      "tags": []
     },
     "output_type": "execute_result"
    }
   ],
   "source": [
    "df[['CustomerID','InvoiceDate','InvoiceMonth', 'CohortMonth', 'CohortIndex']].head()"
   ]
  },
  {
   "cell_type": "markdown",
   "metadata": {
    "id": "jCVXaHQBOKwI"
   },
   "source": [
    "We have  assigned the Monthly time offset i.e Cohort Index to each transaction and ready to use it for running daily cohort analysis!"
   ]
  },
  {
   "cell_type": "markdown",
   "metadata": {
    "id": "ncW0otiJP8hp"
   },
   "source": [
    "### Step 4: Calculating Retention Count: \n",
    "The percentage of active customers compared to the total number of customers after a specific time interval is called retention rate.\n",
    "\n",
    "In the this section, we will calculate retention count for each cohort Month paired with cohort Index"
   ]
  },
  {
   "cell_type": "markdown",
   "metadata": {
    "id": "GhBCmDzKQw1K"
   },
   "source": [
    "#### First, We will group by our dataset with respect to CohortMonth and CohortIndex first"
   ]
  },
  {
   "cell_type": "code",
   "execution_count": null,
   "metadata": {
    "id": "P3Rd3PmCQle7"
   },
   "outputs": [],
   "source": [
    "grouping = df.groupby(['CohortMonth', 'CohortIndex'])"
   ]
  },
  {
   "cell_type": "markdown",
   "metadata": {
    "id": "cCVp2OR9Ak66"
   },
   "source": [
    "#### Now we will count number of unique customer Id's falling in each group of CohortMonth and CohortIndex.\n",
    "This will give us number of customers(Retained Customers) from  each cohort who bought items after a n Months where n is CohortIndex.\n",
    "\n",
    "and store them in a new dataframe cohort Data."
   ]
  },
  {
   "cell_type": "code",
   "execution_count": null,
   "metadata": {
    "colab": {
     "base_uri": "https://localhost:8080/",
     "height": 204
    },
    "id": "wheyhKIyOAVA",
    "outputId": "532b5f68-4bbb-48fe-c8b4-f83a85c5b9f3"
   },
   "outputs": [
    {
     "data": {
      "text/html": [
       "<div>\n",
       "<style scoped>\n",
       "    .dataframe tbody tr th:only-of-type {\n",
       "        vertical-align: middle;\n",
       "    }\n",
       "\n",
       "    .dataframe tbody tr th {\n",
       "        vertical-align: top;\n",
       "    }\n",
       "\n",
       "    .dataframe thead th {\n",
       "        text-align: right;\n",
       "    }\n",
       "</style>\n",
       "<table border=\"1\" class=\"dataframe\">\n",
       "  <thead>\n",
       "    <tr style=\"text-align: right;\">\n",
       "      <th></th>\n",
       "      <th>CohortMonth</th>\n",
       "      <th>CohortIndex</th>\n",
       "      <th>Count of unique CustomerID</th>\n",
       "    </tr>\n",
       "  </thead>\n",
       "  <tbody>\n",
       "    <tr>\n",
       "      <th>0</th>\n",
       "      <td>2010-12-01</td>\n",
       "      <td>1.0</td>\n",
       "      <td>948</td>\n",
       "    </tr>\n",
       "    <tr>\n",
       "      <th>1</th>\n",
       "      <td>2010-12-01</td>\n",
       "      <td>2.0</td>\n",
       "      <td>362</td>\n",
       "    </tr>\n",
       "    <tr>\n",
       "      <th>2</th>\n",
       "      <td>2010-12-01</td>\n",
       "      <td>3.0</td>\n",
       "      <td>317</td>\n",
       "    </tr>\n",
       "    <tr>\n",
       "      <th>3</th>\n",
       "      <td>2010-12-01</td>\n",
       "      <td>4.0</td>\n",
       "      <td>367</td>\n",
       "    </tr>\n",
       "    <tr>\n",
       "      <th>4</th>\n",
       "      <td>2010-12-01</td>\n",
       "      <td>5.0</td>\n",
       "      <td>341</td>\n",
       "    </tr>\n",
       "  </tbody>\n",
       "</table>\n",
       "</div>"
      ],
      "text/plain": [
       "  CohortMonth  CohortIndex  Count of unique CustomerID\n",
       "0  2010-12-01          1.0                         948\n",
       "1  2010-12-01          2.0                         362\n",
       "2  2010-12-01          3.0                         317\n",
       "3  2010-12-01          4.0                         367\n",
       "4  2010-12-01          5.0                         341"
      ]
     },
     "execution_count": 74,
     "metadata": {
      "tags": []
     },
     "output_type": "execute_result"
    }
   ],
   "source": [
    "# Counting the number of unique values per customer ID in each group and storing in a Dataframe\n",
    "cohort_data = grouping['CustomerID'].apply(pd.Series.nunique).reset_index()\n",
    "\n",
    "# Assigning column names to the dataframe created above\n",
    "cohort_data.columns = ['CohortMonth',\t'CohortIndex',\t'Count of unique CustomerID']\n",
    "\n",
    "# Printing top 5 rows of Dataframe\n",
    "cohort_data.head()"
   ]
  },
  {
   "cell_type": "markdown",
   "metadata": {
    "id": "GJ2jsoUIBasg"
   },
   "source": [
    "### Step 5: Retention Rate calculation:\n",
    "Now that we have count of retained customer for each cohortMonth and cohortIndex\n",
    "let's convert it into suitable format for readability and Calulation of retention Rate for each Cohort.\n",
    "\n",
    "We will create a pivot table for this purpose.\n",
    "Given below is a cheat sheet to help you with Pivot Tables in Pandas:"
   ]
  },
  {
   "cell_type": "code",
   "execution_count": null,
   "metadata": {
    "colab": {
     "base_uri": "https://localhost:8080/",
     "height": 235
    },
    "id": "dA8gneprT2aN",
    "outputId": "a3f1a8bc-9caa-4bbd-a862-410368669ade"
   },
   "outputs": [
    {
     "data": {
      "text/html": [
       "<div>\n",
       "<style scoped>\n",
       "    .dataframe tbody tr th:only-of-type {\n",
       "        vertical-align: middle;\n",
       "    }\n",
       "\n",
       "    .dataframe tbody tr th {\n",
       "        vertical-align: top;\n",
       "    }\n",
       "\n",
       "    .dataframe thead th {\n",
       "        text-align: right;\n",
       "    }\n",
       "</style>\n",
       "<table border=\"1\" class=\"dataframe\">\n",
       "  <thead>\n",
       "    <tr style=\"text-align: right;\">\n",
       "      <th>CohortIndex</th>\n",
       "      <th>1.0</th>\n",
       "      <th>2.0</th>\n",
       "      <th>3.0</th>\n",
       "      <th>4.0</th>\n",
       "      <th>5.0</th>\n",
       "      <th>6.0</th>\n",
       "      <th>7.0</th>\n",
       "      <th>8.0</th>\n",
       "      <th>9.0</th>\n",
       "      <th>10.0</th>\n",
       "      <th>11.0</th>\n",
       "      <th>12.0</th>\n",
       "      <th>13.0</th>\n",
       "    </tr>\n",
       "    <tr>\n",
       "      <th>CohortMonth</th>\n",
       "      <th></th>\n",
       "      <th></th>\n",
       "      <th></th>\n",
       "      <th></th>\n",
       "      <th></th>\n",
       "      <th></th>\n",
       "      <th></th>\n",
       "      <th></th>\n",
       "      <th></th>\n",
       "      <th></th>\n",
       "      <th></th>\n",
       "      <th></th>\n",
       "      <th></th>\n",
       "    </tr>\n",
       "  </thead>\n",
       "  <tbody>\n",
       "    <tr>\n",
       "      <th>2010-12-01</th>\n",
       "      <td>948.0</td>\n",
       "      <td>362.0</td>\n",
       "      <td>317.0</td>\n",
       "      <td>367.0</td>\n",
       "      <td>341.0</td>\n",
       "      <td>376.0</td>\n",
       "      <td>360.0</td>\n",
       "      <td>336.0</td>\n",
       "      <td>336.0</td>\n",
       "      <td>374.0</td>\n",
       "      <td>354.0</td>\n",
       "      <td>474.0</td>\n",
       "      <td>260.0</td>\n",
       "    </tr>\n",
       "    <tr>\n",
       "      <th>2011-01-01</th>\n",
       "      <td>421.0</td>\n",
       "      <td>101.0</td>\n",
       "      <td>119.0</td>\n",
       "      <td>102.0</td>\n",
       "      <td>138.0</td>\n",
       "      <td>126.0</td>\n",
       "      <td>110.0</td>\n",
       "      <td>108.0</td>\n",
       "      <td>131.0</td>\n",
       "      <td>146.0</td>\n",
       "      <td>155.0</td>\n",
       "      <td>63.0</td>\n",
       "      <td>NaN</td>\n",
       "    </tr>\n",
       "    <tr>\n",
       "      <th>2011-02-01</th>\n",
       "      <td>380.0</td>\n",
       "      <td>94.0</td>\n",
       "      <td>73.0</td>\n",
       "      <td>106.0</td>\n",
       "      <td>102.0</td>\n",
       "      <td>94.0</td>\n",
       "      <td>97.0</td>\n",
       "      <td>107.0</td>\n",
       "      <td>98.0</td>\n",
       "      <td>119.0</td>\n",
       "      <td>35.0</td>\n",
       "      <td>NaN</td>\n",
       "      <td>NaN</td>\n",
       "    </tr>\n",
       "    <tr>\n",
       "      <th>2011-03-01</th>\n",
       "      <td>440.0</td>\n",
       "      <td>84.0</td>\n",
       "      <td>112.0</td>\n",
       "      <td>96.0</td>\n",
       "      <td>102.0</td>\n",
       "      <td>78.0</td>\n",
       "      <td>116.0</td>\n",
       "      <td>105.0</td>\n",
       "      <td>127.0</td>\n",
       "      <td>39.0</td>\n",
       "      <td>NaN</td>\n",
       "      <td>NaN</td>\n",
       "      <td>NaN</td>\n",
       "    </tr>\n",
       "    <tr>\n",
       "      <th>2011-04-01</th>\n",
       "      <td>299.0</td>\n",
       "      <td>68.0</td>\n",
       "      <td>66.0</td>\n",
       "      <td>63.0</td>\n",
       "      <td>62.0</td>\n",
       "      <td>71.0</td>\n",
       "      <td>69.0</td>\n",
       "      <td>78.0</td>\n",
       "      <td>25.0</td>\n",
       "      <td>NaN</td>\n",
       "      <td>NaN</td>\n",
       "      <td>NaN</td>\n",
       "      <td>NaN</td>\n",
       "    </tr>\n",
       "  </tbody>\n",
       "</table>\n",
       "</div>"
      ],
      "text/plain": [
       "CohortIndex   1.0    2.0    3.0    4.0    5.0    6.0    7.0    8.0    9.0   \\\n",
       "CohortMonth                                                                  \n",
       "2010-12-01   948.0  362.0  317.0  367.0  341.0  376.0  360.0  336.0  336.0   \n",
       "2011-01-01   421.0  101.0  119.0  102.0  138.0  126.0  110.0  108.0  131.0   \n",
       "2011-02-01   380.0   94.0   73.0  106.0  102.0   94.0   97.0  107.0   98.0   \n",
       "2011-03-01   440.0   84.0  112.0   96.0  102.0   78.0  116.0  105.0  127.0   \n",
       "2011-04-01   299.0   68.0   66.0   63.0   62.0   71.0   69.0   78.0   25.0   \n",
       "\n",
       "CohortIndex   10.0   11.0   12.0   13.0  \n",
       "CohortMonth                              \n",
       "2010-12-01   374.0  354.0  474.0  260.0  \n",
       "2011-01-01   146.0  155.0   63.0    NaN  \n",
       "2011-02-01   119.0   35.0    NaN    NaN  \n",
       "2011-03-01    39.0    NaN    NaN    NaN  \n",
       "2011-04-01     NaN    NaN    NaN    NaN  "
      ]
     },
     "execution_count": 75,
     "metadata": {
      "tags": []
     },
     "output_type": "execute_result"
    }
   ],
   "source": [
    "# Creating new dataframe with index as CohortMonth, columns as Cohort indexes and Values as Count\n",
    "retention_counts = cohort_data.pivot(index='CohortMonth', columns='CohortIndex', values='Count of unique CustomerID')\n",
    "\n",
    "# Printing top 5 rows of Pivoted dataframe\n",
    "retention_counts.head()\n"
   ]
  },
  {
   "cell_type": "markdown",
   "metadata": {
    "id": "IJiDqkUPC4Gw"
   },
   "source": [
    "#### Now we will use the the Cohort Count dataframe to calculate the retention rate\n",
    "- We will store the 1st column as Cohort size i.e total Number of Customers in that Cohort\n",
    "- We will divide the values in other columns with Cohort Size in order to calculate the retention rate i.e Number of Customers in Each Cohort Index"
   ]
  },
  {
   "cell_type": "code",
   "execution_count": null,
   "metadata": {
    "id": "M8SIt6yGVxSh"
   },
   "outputs": [],
   "source": [
    "# Select the first column and store it to cohort_sizes\n",
    "cohort_sizes = retention_counts.iloc[:,0]"
   ]
  },
  {
   "cell_type": "markdown",
   "metadata": {
    "id": "5B4SESnFF2wr"
   },
   "source": [
    "Now we will divide the values in all the columns with values in Column 1 Row-Wise"
   ]
  },
  {
   "cell_type": "code",
   "execution_count": null,
   "metadata": {
    "colab": {
     "base_uri": "https://localhost:8080/",
     "height": 483
    },
    "id": "QFaobxVUV04h",
    "outputId": "56a11cc5-e7aa-480d-fc55-17bc5eeae39c"
   },
   "outputs": [
    {
     "data": {
      "text/html": [
       "<div>\n",
       "<style scoped>\n",
       "    .dataframe tbody tr th:only-of-type {\n",
       "        vertical-align: middle;\n",
       "    }\n",
       "\n",
       "    .dataframe tbody tr th {\n",
       "        vertical-align: top;\n",
       "    }\n",
       "\n",
       "    .dataframe thead th {\n",
       "        text-align: right;\n",
       "    }\n",
       "</style>\n",
       "<table border=\"1\" class=\"dataframe\">\n",
       "  <thead>\n",
       "    <tr style=\"text-align: right;\">\n",
       "      <th>CohortIndex</th>\n",
       "      <th>1.0</th>\n",
       "      <th>2.0</th>\n",
       "      <th>3.0</th>\n",
       "      <th>4.0</th>\n",
       "      <th>5.0</th>\n",
       "      <th>6.0</th>\n",
       "      <th>7.0</th>\n",
       "      <th>8.0</th>\n",
       "      <th>9.0</th>\n",
       "      <th>10.0</th>\n",
       "      <th>11.0</th>\n",
       "      <th>12.0</th>\n",
       "      <th>13.0</th>\n",
       "    </tr>\n",
       "    <tr>\n",
       "      <th>CohortMonth</th>\n",
       "      <th></th>\n",
       "      <th></th>\n",
       "      <th></th>\n",
       "      <th></th>\n",
       "      <th></th>\n",
       "      <th></th>\n",
       "      <th></th>\n",
       "      <th></th>\n",
       "      <th></th>\n",
       "      <th></th>\n",
       "      <th></th>\n",
       "      <th></th>\n",
       "      <th></th>\n",
       "    </tr>\n",
       "  </thead>\n",
       "  <tbody>\n",
       "    <tr>\n",
       "      <th>2010-12-01</th>\n",
       "      <td>100.0</td>\n",
       "      <td>38.2</td>\n",
       "      <td>33.4</td>\n",
       "      <td>38.7</td>\n",
       "      <td>36.0</td>\n",
       "      <td>39.7</td>\n",
       "      <td>38.0</td>\n",
       "      <td>35.4</td>\n",
       "      <td>35.4</td>\n",
       "      <td>39.5</td>\n",
       "      <td>37.3</td>\n",
       "      <td>50.0</td>\n",
       "      <td>27.4</td>\n",
       "    </tr>\n",
       "    <tr>\n",
       "      <th>2011-01-01</th>\n",
       "      <td>100.0</td>\n",
       "      <td>24.0</td>\n",
       "      <td>28.3</td>\n",
       "      <td>24.2</td>\n",
       "      <td>32.8</td>\n",
       "      <td>29.9</td>\n",
       "      <td>26.1</td>\n",
       "      <td>25.7</td>\n",
       "      <td>31.1</td>\n",
       "      <td>34.7</td>\n",
       "      <td>36.8</td>\n",
       "      <td>15.0</td>\n",
       "      <td>NaN</td>\n",
       "    </tr>\n",
       "    <tr>\n",
       "      <th>2011-02-01</th>\n",
       "      <td>100.0</td>\n",
       "      <td>24.7</td>\n",
       "      <td>19.2</td>\n",
       "      <td>27.9</td>\n",
       "      <td>26.8</td>\n",
       "      <td>24.7</td>\n",
       "      <td>25.5</td>\n",
       "      <td>28.2</td>\n",
       "      <td>25.8</td>\n",
       "      <td>31.3</td>\n",
       "      <td>9.2</td>\n",
       "      <td>NaN</td>\n",
       "      <td>NaN</td>\n",
       "    </tr>\n",
       "    <tr>\n",
       "      <th>2011-03-01</th>\n",
       "      <td>100.0</td>\n",
       "      <td>19.1</td>\n",
       "      <td>25.5</td>\n",
       "      <td>21.8</td>\n",
       "      <td>23.2</td>\n",
       "      <td>17.7</td>\n",
       "      <td>26.4</td>\n",
       "      <td>23.9</td>\n",
       "      <td>28.9</td>\n",
       "      <td>8.9</td>\n",
       "      <td>NaN</td>\n",
       "      <td>NaN</td>\n",
       "      <td>NaN</td>\n",
       "    </tr>\n",
       "    <tr>\n",
       "      <th>2011-04-01</th>\n",
       "      <td>100.0</td>\n",
       "      <td>22.7</td>\n",
       "      <td>22.1</td>\n",
       "      <td>21.1</td>\n",
       "      <td>20.7</td>\n",
       "      <td>23.7</td>\n",
       "      <td>23.1</td>\n",
       "      <td>26.1</td>\n",
       "      <td>8.4</td>\n",
       "      <td>NaN</td>\n",
       "      <td>NaN</td>\n",
       "      <td>NaN</td>\n",
       "      <td>NaN</td>\n",
       "    </tr>\n",
       "    <tr>\n",
       "      <th>2011-05-01</th>\n",
       "      <td>100.0</td>\n",
       "      <td>23.7</td>\n",
       "      <td>17.2</td>\n",
       "      <td>17.2</td>\n",
       "      <td>21.5</td>\n",
       "      <td>24.4</td>\n",
       "      <td>26.5</td>\n",
       "      <td>10.4</td>\n",
       "      <td>NaN</td>\n",
       "      <td>NaN</td>\n",
       "      <td>NaN</td>\n",
       "      <td>NaN</td>\n",
       "      <td>NaN</td>\n",
       "    </tr>\n",
       "    <tr>\n",
       "      <th>2011-06-01</th>\n",
       "      <td>100.0</td>\n",
       "      <td>20.9</td>\n",
       "      <td>18.7</td>\n",
       "      <td>27.2</td>\n",
       "      <td>24.7</td>\n",
       "      <td>33.6</td>\n",
       "      <td>10.2</td>\n",
       "      <td>NaN</td>\n",
       "      <td>NaN</td>\n",
       "      <td>NaN</td>\n",
       "      <td>NaN</td>\n",
       "      <td>NaN</td>\n",
       "      <td>NaN</td>\n",
       "    </tr>\n",
       "    <tr>\n",
       "      <th>2011-07-01</th>\n",
       "      <td>100.0</td>\n",
       "      <td>20.9</td>\n",
       "      <td>20.4</td>\n",
       "      <td>23.0</td>\n",
       "      <td>27.2</td>\n",
       "      <td>11.5</td>\n",
       "      <td>NaN</td>\n",
       "      <td>NaN</td>\n",
       "      <td>NaN</td>\n",
       "      <td>NaN</td>\n",
       "      <td>NaN</td>\n",
       "      <td>NaN</td>\n",
       "      <td>NaN</td>\n",
       "    </tr>\n",
       "    <tr>\n",
       "      <th>2011-08-01</th>\n",
       "      <td>100.0</td>\n",
       "      <td>25.1</td>\n",
       "      <td>25.1</td>\n",
       "      <td>25.1</td>\n",
       "      <td>13.8</td>\n",
       "      <td>NaN</td>\n",
       "      <td>NaN</td>\n",
       "      <td>NaN</td>\n",
       "      <td>NaN</td>\n",
       "      <td>NaN</td>\n",
       "      <td>NaN</td>\n",
       "      <td>NaN</td>\n",
       "      <td>NaN</td>\n",
       "    </tr>\n",
       "    <tr>\n",
       "      <th>2011-09-01</th>\n",
       "      <td>100.0</td>\n",
       "      <td>29.9</td>\n",
       "      <td>32.6</td>\n",
       "      <td>12.1</td>\n",
       "      <td>NaN</td>\n",
       "      <td>NaN</td>\n",
       "      <td>NaN</td>\n",
       "      <td>NaN</td>\n",
       "      <td>NaN</td>\n",
       "      <td>NaN</td>\n",
       "      <td>NaN</td>\n",
       "      <td>NaN</td>\n",
       "      <td>NaN</td>\n",
       "    </tr>\n",
       "    <tr>\n",
       "      <th>2011-10-01</th>\n",
       "      <td>100.0</td>\n",
       "      <td>26.4</td>\n",
       "      <td>13.1</td>\n",
       "      <td>NaN</td>\n",
       "      <td>NaN</td>\n",
       "      <td>NaN</td>\n",
       "      <td>NaN</td>\n",
       "      <td>NaN</td>\n",
       "      <td>NaN</td>\n",
       "      <td>NaN</td>\n",
       "      <td>NaN</td>\n",
       "      <td>NaN</td>\n",
       "      <td>NaN</td>\n",
       "    </tr>\n",
       "    <tr>\n",
       "      <th>2011-11-01</th>\n",
       "      <td>100.0</td>\n",
       "      <td>13.4</td>\n",
       "      <td>NaN</td>\n",
       "      <td>NaN</td>\n",
       "      <td>NaN</td>\n",
       "      <td>NaN</td>\n",
       "      <td>NaN</td>\n",
       "      <td>NaN</td>\n",
       "      <td>NaN</td>\n",
       "      <td>NaN</td>\n",
       "      <td>NaN</td>\n",
       "      <td>NaN</td>\n",
       "      <td>NaN</td>\n",
       "    </tr>\n",
       "    <tr>\n",
       "      <th>2011-12-01</th>\n",
       "      <td>100.0</td>\n",
       "      <td>NaN</td>\n",
       "      <td>NaN</td>\n",
       "      <td>NaN</td>\n",
       "      <td>NaN</td>\n",
       "      <td>NaN</td>\n",
       "      <td>NaN</td>\n",
       "      <td>NaN</td>\n",
       "      <td>NaN</td>\n",
       "      <td>NaN</td>\n",
       "      <td>NaN</td>\n",
       "      <td>NaN</td>\n",
       "      <td>NaN</td>\n",
       "    </tr>\n",
       "  </tbody>\n",
       "</table>\n",
       "</div>"
      ],
      "text/plain": [
       "CohortIndex   1.0   2.0   3.0   4.0   5.0   6.0   7.0   8.0   9.0   10.0  \\\n",
       "CohortMonth                                                                \n",
       "2010-12-01   100.0  38.2  33.4  38.7  36.0  39.7  38.0  35.4  35.4  39.5   \n",
       "2011-01-01   100.0  24.0  28.3  24.2  32.8  29.9  26.1  25.7  31.1  34.7   \n",
       "2011-02-01   100.0  24.7  19.2  27.9  26.8  24.7  25.5  28.2  25.8  31.3   \n",
       "2011-03-01   100.0  19.1  25.5  21.8  23.2  17.7  26.4  23.9  28.9   8.9   \n",
       "2011-04-01   100.0  22.7  22.1  21.1  20.7  23.7  23.1  26.1   8.4   NaN   \n",
       "2011-05-01   100.0  23.7  17.2  17.2  21.5  24.4  26.5  10.4   NaN   NaN   \n",
       "2011-06-01   100.0  20.9  18.7  27.2  24.7  33.6  10.2   NaN   NaN   NaN   \n",
       "2011-07-01   100.0  20.9  20.4  23.0  27.2  11.5   NaN   NaN   NaN   NaN   \n",
       "2011-08-01   100.0  25.1  25.1  25.1  13.8   NaN   NaN   NaN   NaN   NaN   \n",
       "2011-09-01   100.0  29.9  32.6  12.1   NaN   NaN   NaN   NaN   NaN   NaN   \n",
       "2011-10-01   100.0  26.4  13.1   NaN   NaN   NaN   NaN   NaN   NaN   NaN   \n",
       "2011-11-01   100.0  13.4   NaN   NaN   NaN   NaN   NaN   NaN   NaN   NaN   \n",
       "2011-12-01   100.0   NaN   NaN   NaN   NaN   NaN   NaN   NaN   NaN   NaN   \n",
       "\n",
       "CohortIndex  11.0  12.0  13.0  \n",
       "CohortMonth                    \n",
       "2010-12-01   37.3  50.0  27.4  \n",
       "2011-01-01   36.8  15.0   NaN  \n",
       "2011-02-01    9.2   NaN   NaN  \n",
       "2011-03-01    NaN   NaN   NaN  \n",
       "2011-04-01    NaN   NaN   NaN  \n",
       "2011-05-01    NaN   NaN   NaN  \n",
       "2011-06-01    NaN   NaN   NaN  \n",
       "2011-07-01    NaN   NaN   NaN  \n",
       "2011-08-01    NaN   NaN   NaN  \n",
       "2011-09-01    NaN   NaN   NaN  \n",
       "2011-10-01    NaN   NaN   NaN  \n",
       "2011-11-01    NaN   NaN   NaN  \n",
       "2011-12-01    NaN   NaN   NaN  "
      ]
     },
     "execution_count": 77,
     "metadata": {
      "tags": []
     },
     "output_type": "execute_result"
    }
   ],
   "source": [
    "# Divide the cohort count by cohort sizes along the rows\n",
    "retention_rate = retention_counts.divide(cohort_sizes, axis=0)\n",
    "\n",
    "# Coverting the retention rate into percentage and Rounding off.\n",
    "retention_rate\n",
    "\n",
    "# printing top 5 rows of retention Rate\n",
    "retention_rate.round(3)*100"
   ]
  },
  {
   "cell_type": "markdown",
   "metadata": {
    "id": "fRDkofbGMGOd"
   },
   "source": [
    "The retention Rate dataframe represent Customer retained across Cohurts. We can read it as following:\n",
    "- Index value represents the Cohort\n",
    "- Columns represent the number of months since current Cohort\n",
    "- for example the value at index `2010-12-01` column `7` is 38.0 and Represents `38%` of customers from cohort `2010-12` were retained in `7th` Month.\n"
   ]
  },
  {
   "cell_type": "markdown",
   "metadata": {
    "id": "XC32zjYeLWZx"
   },
   "source": [
    "#### Also you can see from the retention Rate DataFrame:\n",
    "-  Retention Rate 1st index i.e 1st month is 100%  as all the customers for that particular customers signed up in 1st Month\n",
    "- Retention Rate may increase or decrease in Subsequent Indexes.\n",
    "- Values towards BottomRight have a lot of NaN values"
   ]
  },
  {
   "cell_type": "markdown",
   "metadata": {
    "id": "G7gzEZX7KG_1"
   },
   "source": [
    "***Why are there NaN values towards RIGHT BOTTOM ?***\n",
    "\n",
    "Yes, As you might have Guessed, The Cohort Indexes towards Right represent Number of Months away the Values are from Current Cohort.\n",
    "Thus the values at Bottom Right cells don't have data of acquisition as they are too recent"
   ]
  },
  {
   "cell_type": "markdown",
   "metadata": {
    "id": "vCrqCO5yJeUx"
   },
   "source": [
    "### Step 6: Visualizing the Above Retention rate\n",
    "- Visualzation allows decision makers to read and interpret patterns in data easily. \n",
    "- This allows the organisation to act identify and Act on Trends Faster\n",
    "- In this section, we will visualize cohort analysis using HeatMap as it is very easy to read and Contains color Mapping representing the Values"
   ]
  },
  {
   "cell_type": "markdown",
   "metadata": {
    "id": "iyvTRUhosCJS"
   },
   "source": [
    "Before we starting plotting our HeatMap, let's set the index of our Retention rate dataframe to a more readable string format"
   ]
  },
  {
   "cell_type": "code",
   "execution_count": null,
   "metadata": {
    "colab": {
     "base_uri": "https://localhost:8080/"
    },
    "id": "4Qnrtb0FsNDI",
    "outputId": "10b7a0a7-40c6-4557-dcbe-528703a36280"
   },
   "outputs": [
    {
     "data": {
      "text/plain": [
       "Index(['2010-12', '2011-01', '2011-02', '2011-03', '2011-04', '2011-05',\n",
       "       '2011-06', '2011-07', '2011-08', '2011-09', '2011-10', '2011-11',\n",
       "       '2011-12'],\n",
       "      dtype='object', name='CohortMonth')"
      ]
     },
     "execution_count": 78,
     "metadata": {
      "tags": []
     },
     "output_type": "execute_result"
    }
   ],
   "source": [
    "retention_rate.index = retention_rate.index.strftime('%Y-%m')\n",
    "retention_rate.index"
   ]
  },
  {
   "cell_type": "code",
   "execution_count": null,
   "metadata": {
    "colab": {
     "base_uri": "https://localhost:8080/",
     "height": 623
    },
    "id": "Zuhgws71V44O",
    "outputId": "8b2147c7-4c23-42e7-d5ef-c7b8fc4bcc97"
   },
   "outputs": [
    {
     "data": {
      "image/png": "[encoded data removed]",
      "text/plain": [
       "<Figure size 1152x720 with 2 Axes>"
      ]
     },
     "metadata": {
      "needs_background": "light",
      "tags": []
     },
     "output_type": "display_data"
    }
   ],
   "source": [
    "#loading seaborn and matplotlib\n",
    "import matplotlib.pyplot as plt\n",
    "import seaborn as sns\n",
    "\n",
    "# Initialize the figure\n",
    "plt.figure(figsize=(16, 10))\n",
    "\n",
    "# Adding a title\n",
    "plt.title('Retention Rate in percentage:- Monthly Cohorts', fontsize = 14)\n",
    "\n",
    "# Creating the heatmap\n",
    "sns.heatmap(retention_rate, annot=True, fmt= '.0%',cmap='YlGnBu', vmin = 0.0 , vmax = 0.6)\n",
    "plt.ylabel('Cohort Month')\n",
    "plt.xlabel('Cohort Index')\n",
    "plt.yticks( rotation='360')\n",
    "plt.show()\n"
   ]
  },
  {
   "cell_type": "markdown",
   "metadata": {
    "id": "e2vmSnwrrj3h"
   },
   "source": [
    "This marks the end of Cohort Analysis for Retention Rate of Customers.\n",
    "\n",
    "\n",
    "The Heatmap generated can be used to present the cohort Analysis result to Decision Makers and Executives in order to generate insights and Take actions"
   ]
  },
  {
   "cell_type": "markdown",
   "metadata": {
    "id": "Zky_C7qmIXZt"
   },
   "source": [
    "As we discussed at the start of this Analysis, Cohort Analytics can be used not only for performing Customer Retention rate but also many other business metrics.\n",
    "\n",
    "In this section, we will use it to genrate cohort Chart for two more metrics: Total Revenue Generated by each Cohort and Total Quantity purchased in each cohort.\n",
    "## 7. Cohort Analysis: Total Revenue Generated.\n",
    "#### Calculating Total revenue generated\n",
    "I will now calculate the average revenue generated and in order to analyze trends and insights across all Monthly cohorts.\n",
    "\n"
   ]
  },
  {
   "cell_type": "code",
   "execution_count": null,
   "metadata": {
    "colab": {
     "base_uri": "https://localhost:8080/",
     "height": 374
    },
    "id": "ox78KEnouEJm",
    "outputId": "d8cc1cd8-253a-4b13-bec2-8a46d4aca2b5"
   },
   "outputs": [
    {
     "data": {
      "text/html": [
       "<div>\n",
       "<style scoped>\n",
       "    .dataframe tbody tr th:only-of-type {\n",
       "        vertical-align: middle;\n",
       "    }\n",
       "\n",
       "    .dataframe tbody tr th {\n",
       "        vertical-align: top;\n",
       "    }\n",
       "\n",
       "    .dataframe thead th {\n",
       "        text-align: right;\n",
       "    }\n",
       "</style>\n",
       "<table border=\"1\" class=\"dataframe\">\n",
       "  <thead>\n",
       "    <tr style=\"text-align: right;\">\n",
       "      <th></th>\n",
       "      <th>InvoiceNo</th>\n",
       "      <th>StockCode</th>\n",
       "      <th>lower</th>\n",
       "      <th>Description</th>\n",
       "      <th>Quantity</th>\n",
       "      <th>InvoiceDate</th>\n",
       "      <th>UnitPrice</th>\n",
       "      <th>CustomerID</th>\n",
       "      <th>Country</th>\n",
       "      <th>InvoiceMonth</th>\n",
       "      <th>CohortMonth</th>\n",
       "      <th>CohortIndex</th>\n",
       "      <th>Revenue</th>\n",
       "    </tr>\n",
       "  </thead>\n",
       "  <tbody>\n",
       "    <tr>\n",
       "      <th>0</th>\n",
       "      <td>536365</td>\n",
       "      <td>85123A</td>\n",
       "      <td>white hanging heart t-light holder</td>\n",
       "      <td>WHITE HANGING HEART T-LIGHT HOLDER</td>\n",
       "      <td>6</td>\n",
       "      <td>2010-12-01 08:26:00</td>\n",
       "      <td>2.55</td>\n",
       "      <td>17850.0</td>\n",
       "      <td>United Kingdom</td>\n",
       "      <td>2010-12-01</td>\n",
       "      <td>2010-12-01</td>\n",
       "      <td>1.0</td>\n",
       "      <td>15.30</td>\n",
       "    </tr>\n",
       "    <tr>\n",
       "      <th>1</th>\n",
       "      <td>536365</td>\n",
       "      <td>71053</td>\n",
       "      <td>white metal lantern</td>\n",
       "      <td>WHITE METAL LANTERN</td>\n",
       "      <td>6</td>\n",
       "      <td>2010-12-01 08:26:00</td>\n",
       "      <td>3.39</td>\n",
       "      <td>17850.0</td>\n",
       "      <td>United Kingdom</td>\n",
       "      <td>2010-12-01</td>\n",
       "      <td>2010-12-01</td>\n",
       "      <td>1.0</td>\n",
       "      <td>20.34</td>\n",
       "    </tr>\n",
       "    <tr>\n",
       "      <th>2</th>\n",
       "      <td>536365</td>\n",
       "      <td>84406B</td>\n",
       "      <td>cream cupid hearts coat hanger</td>\n",
       "      <td>CREAM CUPID HEARTS COAT HANGER</td>\n",
       "      <td>8</td>\n",
       "      <td>2010-12-01 08:26:00</td>\n",
       "      <td>2.75</td>\n",
       "      <td>17850.0</td>\n",
       "      <td>United Kingdom</td>\n",
       "      <td>2010-12-01</td>\n",
       "      <td>2010-12-01</td>\n",
       "      <td>1.0</td>\n",
       "      <td>22.00</td>\n",
       "    </tr>\n",
       "    <tr>\n",
       "      <th>3</th>\n",
       "      <td>536365</td>\n",
       "      <td>84029G</td>\n",
       "      <td>knitted union flag hot water bottle</td>\n",
       "      <td>KNITTED UNION FLAG HOT WATER BOTTLE</td>\n",
       "      <td>6</td>\n",
       "      <td>2010-12-01 08:26:00</td>\n",
       "      <td>3.39</td>\n",
       "      <td>17850.0</td>\n",
       "      <td>United Kingdom</td>\n",
       "      <td>2010-12-01</td>\n",
       "      <td>2010-12-01</td>\n",
       "      <td>1.0</td>\n",
       "      <td>20.34</td>\n",
       "    </tr>\n",
       "    <tr>\n",
       "      <th>4</th>\n",
       "      <td>536365</td>\n",
       "      <td>84029E</td>\n",
       "      <td>red woolly hottie white heart.</td>\n",
       "      <td>RED WOOLLY HOTTIE WHITE HEART.</td>\n",
       "      <td>6</td>\n",
       "      <td>2010-12-01 08:26:00</td>\n",
       "      <td>3.39</td>\n",
       "      <td>17850.0</td>\n",
       "      <td>United Kingdom</td>\n",
       "      <td>2010-12-01</td>\n",
       "      <td>2010-12-01</td>\n",
       "      <td>1.0</td>\n",
       "      <td>20.34</td>\n",
       "    </tr>\n",
       "  </tbody>\n",
       "</table>\n",
       "</div>"
      ],
      "text/plain": [
       "  InvoiceNo StockCode                                lower  \\\n",
       "0    536365    85123A   white hanging heart t-light holder   \n",
       "1    536365     71053                  white metal lantern   \n",
       "2    536365    84406B       cream cupid hearts coat hanger   \n",
       "3    536365    84029G  knitted union flag hot water bottle   \n",
       "4    536365    84029E       red woolly hottie white heart.   \n",
       "\n",
       "                           Description  Quantity         InvoiceDate  \\\n",
       "0   WHITE HANGING HEART T-LIGHT HOLDER         6 2010-12-01 08:26:00   \n",
       "1                  WHITE METAL LANTERN         6 2010-12-01 08:26:00   \n",
       "2       CREAM CUPID HEARTS COAT HANGER         8 2010-12-01 08:26:00   \n",
       "3  KNITTED UNION FLAG HOT WATER BOTTLE         6 2010-12-01 08:26:00   \n",
       "4       RED WOOLLY HOTTIE WHITE HEART.         6 2010-12-01 08:26:00   \n",
       "\n",
       "   UnitPrice  CustomerID         Country InvoiceMonth CohortMonth  \\\n",
       "0       2.55     17850.0  United Kingdom   2010-12-01  2010-12-01   \n",
       "1       3.39     17850.0  United Kingdom   2010-12-01  2010-12-01   \n",
       "2       2.75     17850.0  United Kingdom   2010-12-01  2010-12-01   \n",
       "3       3.39     17850.0  United Kingdom   2010-12-01  2010-12-01   \n",
       "4       3.39     17850.0  United Kingdom   2010-12-01  2010-12-01   \n",
       "\n",
       "   CohortIndex  Revenue  \n",
       "0          1.0    15.30  \n",
       "1          1.0    20.34  \n",
       "2          1.0    22.00  \n",
       "3          1.0    20.34  \n",
       "4          1.0    20.34  "
      ]
     },
     "execution_count": 80,
     "metadata": {
      "tags": []
     },
     "output_type": "execute_result"
    }
   ],
   "source": [
    "df.head()"
   ]
  },
  {
   "cell_type": "markdown",
   "metadata": {
    "id": "uAIBr0qNuNIr"
   },
   "source": [
    "We will first calculate revenue for each order by multiplying the Quantity with UnitPrice"
   ]
  },
  {
   "cell_type": "code",
   "execution_count": null,
   "metadata": {
    "id": "VICuCQmNt-Xh"
   },
   "outputs": [],
   "source": [
    "df['Revenue'] = df['UnitPrice']*df['Quantity']"
   ]
  },
  {
   "cell_type": "markdown",
   "metadata": {
    "id": "7XJQB_J6JATB"
   },
   "source": [
    "Now I will:\n",
    "- Create the groupby object using CohortMonth and CohortIndex columns.\n",
    "- Select the Revenue Column, calculate the sum of Revenue for each Group, and store it to cohort_data.\n",
    "- Reset the index of cohort_data DataFrame.\n",
    "- and Finally, Create the pivot table with CohortMonth as the index, Cohort index as the columns and revenue for each group as the values."
   ]
  },
  {
   "cell_type": "code",
   "execution_count": null,
   "metadata": {
    "colab": {
     "base_uri": "https://localhost:8080/"
    },
    "id": "RLCCtm3PIY1Y",
    "outputId": "7544f535-62cf-4ca9-898d-3cc55e759aa6"
   },
   "outputs": [
    {
     "name": "stdout",
     "output_type": "stream",
     "text": [
      "CohortIndex      1.0       2.0       3.0       4.0       5.0       6.0   \\\n",
      "CohortMonth                                                               \n",
      "2010-12-01   552372.9  271081.1  230416.2  301779.4  200555.5  321097.9   \n",
      "2011-01-01   202650.9   56012.5   62153.7   41454.9   82189.0   83890.3   \n",
      "2011-02-01   149105.4   25154.7   37286.3   45768.9   35608.0   31016.1   \n",
      "2011-03-01   189488.4   26364.1   53594.9   40246.5   46495.1   38301.9   \n",
      "2011-04-01   119561.8   28866.8   24896.6   23863.4   25945.5   29550.2   \n",
      "2011-05-01   115494.3   17622.9   18838.6   17888.9   26482.3   32850.3   \n",
      "2011-06-01    92198.4   13552.7   13842.4   29868.8   25751.1   39494.5   \n",
      "2011-07-01    65734.5   11126.3   15349.9   17063.0   18973.8    6024.7   \n",
      "2011-08-01    77503.3   19093.3   33016.1   39870.9   14143.2       NaN   \n",
      "2011-09-01   152935.4   25656.6   35663.2   12265.8       NaN       NaN   \n",
      "2011-10-01   153634.1   38874.6   12225.6       NaN       NaN       NaN   \n",
      "2011-11-01   132770.6   14786.3       NaN       NaN       NaN       NaN   \n",
      "2011-12-01    26722.8       NaN       NaN       NaN       NaN       NaN   \n",
      "\n",
      "CohortIndex      7.0       8.0       9.0       10.0      11.0      12.0  \\\n",
      "CohortMonth                                                               \n",
      "2010-12-01   312399.9  303427.4  310117.7  465596.6  440585.7  509481.2   \n",
      "2011-01-01    70184.5   72719.8   74270.7  103748.0  121445.3   27773.7   \n",
      "2011-02-01    47632.4   55682.1   51735.6   60424.3    9402.1       NaN   \n",
      "2011-03-01    60526.9   61205.2   64885.7   11145.4       NaN       NaN   \n",
      "2011-04-01    28060.8   33670.8    6273.9       NaN       NaN       NaN   \n",
      "2011-05-01    31260.3   10561.7       NaN       NaN       NaN       NaN   \n",
      "2011-06-01     7841.5       NaN       NaN       NaN       NaN       NaN   \n",
      "2011-07-01        NaN       NaN       NaN       NaN       NaN       NaN   \n",
      "2011-08-01        NaN       NaN       NaN       NaN       NaN       NaN   \n",
      "2011-09-01        NaN       NaN       NaN       NaN       NaN       NaN   \n",
      "2011-10-01        NaN       NaN       NaN       NaN       NaN       NaN   \n",
      "2011-11-01        NaN       NaN       NaN       NaN       NaN       NaN   \n",
      "2011-12-01        NaN       NaN       NaN       NaN       NaN       NaN   \n",
      "\n",
      "CohortIndex      13.0  \n",
      "CohortMonth            \n",
      "2010-12-01   182372.8  \n",
      "2011-01-01        NaN  \n",
      "2011-02-01        NaN  \n",
      "2011-03-01        NaN  \n",
      "2011-04-01        NaN  \n",
      "2011-05-01        NaN  \n",
      "2011-06-01        NaN  \n",
      "2011-07-01        NaN  \n",
      "2011-08-01        NaN  \n",
      "2011-09-01        NaN  \n",
      "2011-10-01        NaN  \n",
      "2011-11-01        NaN  \n",
      "2011-12-01        NaN  \n"
     ]
    }
   ],
   "source": [
    "# Creating the groupby object and passing the CohortDate and cohort index as a list\n",
    "grouping = df.groupby(['CohortMonth', 'CohortIndex']) \n",
    "\n",
    "# Calculating the sum of the Revenue price column\n",
    "cohort_data = grouping['Revenue'].sum()\n",
    "\n",
    "# Reset the index of cohort_data\n",
    "cohort_data = cohort_data.reset_index()\n",
    "\n",
    "# Create a pivot \n",
    "average_price = cohort_data.pivot(index='CohortMonth', columns='CohortIndex', values='Revenue')\n",
    "pd.set_option('display.max_columns',15)\n",
    "print(average_price.round(1))"
   ]
  },
  {
   "cell_type": "code",
   "execution_count": null,
   "metadata": {
    "colab": {
     "base_uri": "https://localhost:8080/"
    },
    "id": "9I4Qa0P39KYK",
    "outputId": "e6728e75-0e7a-423a-ef49-47a662d47e52"
   },
   "outputs": [
    {
     "data": {
      "text/plain": [
       "Index(['2010-12', '2011-01', '2011-02', '2011-03', '2011-04', '2011-05',\n",
       "       '2011-06', '2011-07', '2011-08', '2011-09', '2011-10', '2011-11',\n",
       "       '2011-12'],\n",
       "      dtype='object', name='CohortMonth')"
      ]
     },
     "execution_count": 102,
     "metadata": {
      "tags": []
     },
     "output_type": "execute_result"
    }
   ],
   "source": [
    "#creating cohorts for total revenue\n",
    "average_price.round(3)*100\n",
    "average_price.index = average_price.index.strftime('%Y-%m')\n",
    "average_price.index"
   ]
  },
  {
   "cell_type": "code",
   "execution_count": null,
   "metadata": {
    "colab": {
     "base_uri": "https://localhost:8080/",
     "height": 623
    },
    "id": "hr0WSXRn7fbb",
    "outputId": "8affc4ac-391c-4795-d54b-c5ccd6c7b0c4"
   },
   "outputs": [
    {
     "data": {
      "image/png": "[encoded data removed]",
      "text/plain": [
       "<Figure size 1152x720 with 2 Axes>"
      ]
     },
     "metadata": {
      "needs_background": "light",
      "tags": []
     },
     "output_type": "display_data"
    }
   ],
   "source": [
    "# Initialize the figure\n",
    "plt.figure(figsize=(16, 10))\n",
    "\n",
    "# Adding a title\n",
    "plt.title('Retention of revenue Rate in percentage:- Monthly Cohorts', fontsize = 14)\n",
    "\n",
    "# Creating the heatmap\n",
    "sns.heatmap(average_price, annot=True,cmap='YlGnBu', vmin = 6000 , vmax = 560000)\n",
    "plt.ylabel('Cohort Month')\n",
    "plt.xlabel('Cohort Index')\n",
    "plt.yticks( rotation='360')\n",
    "plt.show()\n"
   ]
  },
  {
   "cell_type": "markdown",
   "metadata": {
    "id": "Ve74OCuNv32O"
   },
   "source": [
    "We can see the values of Total revenue generated by customers acquired in each Cohort across cohort Indexes as above."
   ]
  },
  {
   "cell_type": "markdown",
   "metadata": {
    "id": "h9kw-e2eTYTk"
   },
   "source": [
    "## 8. Cohort Analysis: Total Quantity Purchased.\n",
    "#### Calculating Total quantity purchased\n",
    "I will now calculate the average quantity purchased and in order to analyze trends and insights across all Monthly cohorts.\n",
    "\n"
   ]
  },
  {
   "cell_type": "code",
   "execution_count": null,
   "metadata": {
    "colab": {
     "base_uri": "https://localhost:8080/"
    },
    "id": "rtO1JglkJxW1",
    "outputId": "aa8aab7e-080a-4981-f0f4-900eb6332eb5"
   },
   "outputs": [
    {
     "name": "stdout",
     "output_type": "stream",
     "text": [
      "CohortIndex      1.0       2.0       3.0       4.0       5.0       6.0   \\\n",
      "CohortMonth                                                               \n",
      "2010-12-01   295177.0  158672.0  137366.0  178851.0  130429.0  180391.0   \n",
      "2011-01-01   110083.0   30020.0   37848.0   25893.0   46709.0   49190.0   \n",
      "2011-02-01    94857.0   17936.0   35494.0   29144.0   24635.0   23424.0   \n",
      "2011-03-01   108460.0   14659.0   30464.0   22437.0   31629.0   26137.0   \n",
      "2011-04-01    71255.0   14466.0   12498.0   15039.0   16001.0   17106.0   \n",
      "2011-05-01    65941.0   10125.0   12341.0   10861.0   16219.0   20261.0   \n",
      "2011-06-01    58156.0   12751.0    7630.0   20036.0   17603.0   24248.0   \n",
      "2011-07-01    48727.0    6668.0    9644.0   10744.0   10892.0    3698.0   \n",
      "2011-08-01    47550.0    9567.0   15330.0   16587.0    6317.0       NaN   \n",
      "2011-09-01    99265.0   13517.0   20530.0    7711.0       NaN       NaN   \n",
      "2011-10-01    99281.0   25113.0    7199.0       NaN       NaN       NaN   \n",
      "2011-11-01    96766.0   10668.0       NaN       NaN       NaN       NaN   \n",
      "2011-12-01    14396.0       NaN       NaN       NaN       NaN       NaN   \n",
      "\n",
      "CohortIndex      7.0       8.0       9.0       10.0      11.0      12.0  \\\n",
      "CohortMonth                                                               \n",
      "2010-12-01   179198.0  176500.0  198983.0  249616.0  249104.0  294214.0   \n",
      "2011-01-01    40948.0   42629.0   45243.0   50962.0   59115.0   14382.0   \n",
      "2011-02-01    29406.0   32939.0   30388.0   34949.0    5513.0       NaN   \n",
      "2011-03-01    36715.0   43130.0   44262.0    8691.0       NaN       NaN   \n",
      "2011-04-01    18578.0   20469.0    3857.0       NaN       NaN       NaN   \n",
      "2011-05-01    19668.0    5872.0       NaN       NaN       NaN       NaN   \n",
      "2011-06-01     5712.0       NaN       NaN       NaN       NaN       NaN   \n",
      "2011-07-01        NaN       NaN       NaN       NaN       NaN       NaN   \n",
      "2011-08-01        NaN       NaN       NaN       NaN       NaN       NaN   \n",
      "2011-09-01        NaN       NaN       NaN       NaN       NaN       NaN   \n",
      "2011-10-01        NaN       NaN       NaN       NaN       NaN       NaN   \n",
      "2011-11-01        NaN       NaN       NaN       NaN       NaN       NaN   \n",
      "2011-12-01        NaN       NaN       NaN       NaN       NaN       NaN   \n",
      "\n",
      "CohortIndex      13.0  \n",
      "CohortMonth            \n",
      "2010-12-01   109196.0  \n",
      "2011-01-01        NaN  \n",
      "2011-02-01        NaN  \n",
      "2011-03-01        NaN  \n",
      "2011-04-01        NaN  \n",
      "2011-05-01        NaN  \n",
      "2011-06-01        NaN  \n",
      "2011-07-01        NaN  \n",
      "2011-08-01        NaN  \n",
      "2011-09-01        NaN  \n",
      "2011-10-01        NaN  \n",
      "2011-11-01        NaN  \n",
      "2011-12-01        NaN  \n"
     ]
    }
   ],
   "source": [
    "# Creating the groupby object and passing the CohortDate and cohort index as a list\n",
    "grouping = df.groupby(['CohortMonth', 'CohortIndex']) \n",
    "\n",
    "# Calculating the sum of the Revenue price column\n",
    "cohort_data = grouping['Quantity'].sum()\n",
    "\n",
    "# Reset the index of cohort_data\n",
    "cohort_data = cohort_data.reset_index()\n",
    "\n",
    "# Create a pivot \n",
    "quantity = cohort_data.pivot(index='CohortMonth', columns='CohortIndex', values='Quantity')\n",
    "pd.set_option('display.max_columns',15)\n",
    "print(quantity.round(1))"
   ]
  },
  {
   "cell_type": "markdown",
   "metadata": {
    "id": "h7Vovw8ET0h1"
   },
   "source": [
    "Now I will:\n",
    "- Create the groupby object using CohortMonth and CohortIndex columns.\n",
    "- Select the Quntity Column, calculate the sum of Quantity purchased for each Group, and store it to cohort_data.\n",
    "- Reset the index of cohort_data DataFrame.\n",
    "- and Finally, Create the pivot table with CohortMonth as the index, Cohort index as the columns and purchased quantity for each group as the values."
   ]
  },
  {
   "cell_type": "code",
   "execution_count": null,
   "metadata": {
    "colab": {
     "base_uri": "https://localhost:8080/"
    },
    "id": "A3yW2qJ0PSMW",
    "outputId": "6f1b9d63-5ab9-4566-f6d8-aef1bbbf7d67"
   },
   "outputs": [
    {
     "data": {
      "text/plain": [
       "Index(['2010-12', '2011-01', '2011-02', '2011-03', '2011-04', '2011-05',\n",
       "       '2011-06', '2011-07', '2011-08', '2011-09', '2011-10', '2011-11',\n",
       "       '2011-12'],\n",
       "      dtype='object', name='CohortMonth')"
      ]
     },
     "execution_count": 99,
     "metadata": {
      "tags": []
     },
     "output_type": "execute_result"
    }
   ],
   "source": [
    "#creating cohorts for total quantity\n",
    "quantity.round(3)*100\n",
    "quantity.index = quantity.index.strftime('%Y-%m')\n",
    "quantity.index"
   ]
  },
  {
   "cell_type": "code",
   "execution_count": null,
   "metadata": {
    "colab": {
     "base_uri": "https://localhost:8080/",
     "height": 623
    },
    "id": "V5U2Ib2QPSPe",
    "outputId": "fd19bd2c-bc90-4e7b-eca3-9652504bf23b"
   },
   "outputs": [
    {
     "data": {
      "image/png": "[encoded data removed]",
      "text/plain": [
       "<Figure size 1152x720 with 2 Axes>"
      ]
     },
     "metadata": {
      "needs_background": "light",
      "tags": []
     },
     "output_type": "display_data"
    }
   ],
   "source": [
    "# Initialize the figure\n",
    "plt.figure(figsize=(16, 10))\n",
    "\n",
    "# Adding a title\n",
    "plt.title('Quantity Cohorts in percentage:- Monthly Cohorts', fontsize = 14)\n",
    "\n",
    "# Creating the heatmap\n",
    "sns.heatmap(quantity, annot=True,cmap='YlGnBu', vmin = 3500 , vmax = 300000)\n",
    "plt.ylabel('Cohort Month')\n",
    "plt.xlabel('Cohort Index')\n",
    "plt.yticks( rotation='360')\n",
    "plt.show()"
   ]
  },
  {
   "cell_type": "markdown",
   "metadata": {
    "id": "T-I8PiFCe3j6"
   },
   "source": [
    "## 9. Conclusion:\n",
    "For e-commerce organisations, cohort analysis is a unique opportunity to find out which clients are the most valuable to their business.\n",
    "\n",
    "by performing Cohort analysis you can get following answers to following questions:\n",
    "\n",
    "- How much effective was a marketing campaign held in a particular time period.\n",
    "- Did the strategy employed to improve the conversion rates of Customers worked?\n",
    "- Should I focus more on retention rather than acquiring new customers?\n",
    "- Are my customer nurturing strategies effective?\n",
    "- Is there a seasonality pattern in Customer behahiour?\n",
    "\n",
    "#### In this Cohort Analysis we have learnt about:\n",
    "- Customer Segmentation and it's importance\n",
    "- Different attributes used for Customer Segmentation \n",
    "- Cohort Analysis and It's Advantages\n",
    "- Application of Cohort Analysis\n",
    "- Creating Cohort Charts for different business metrics and Analysing them in order to generate insights.\n",
    "\n"
   ]
  },
  {
   "cell_type": "code",
   "execution_count": null,
   "metadata": {
    "id": "69NbLYSdPSSk"
   },
   "outputs": [],
   "source": []
  },
  {
   "cell_type": "code",
   "execution_count": null,
   "metadata": {
    "id": "aqqI0oxnPSUD"
   },
   "outputs": [],
   "source": []
  }
 ],
 "metadata": {
  "accelerator": "GPU",
  "colab": {
   "collapsed_sections": [],
   "name": "Monthly Cohort Analysis of Customers.ipynb",
   "provenance": []
  },
  "kernelspec": {
   "display_name": "Python 3",
   "language": "python",
   "name": "python3"
  },
  "language_info": {
   "codemirror_mode": {
    "name": "ipython",
    "version": 3
   },
   "file_extension": ".py",
   "mimetype": "text/x-python",
   "name": "python",
   "nbconvert_exporter": "python",
   "pygments_lexer": "ipython3",
   "version": "3.8.5"
  }
 },
 "nbformat": 4,
 "nbformat_minor": 1
}
