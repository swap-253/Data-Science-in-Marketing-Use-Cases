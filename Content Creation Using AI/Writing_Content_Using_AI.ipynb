{
  "nbformat": 4,
  "nbformat_minor": 0,
  "metadata": {
    "accelerator": "GPU",
    "colab": {
      "name": "Writing Content Using AI.ipynb",
      "provenance": [],
      "collapsed_sections": []
    },
    "kernelspec": {
      "display_name": "Python 3",
      "name": "python3"
    },
    "language_info": {
      "name": "python"
    }
  },
  "cells": [
    {
      "cell_type": "markdown",
      "metadata": {
        "id": "KRoJLyG0e9xh"
      },
      "source": [
        "## Problem Statement\n",
        "In this Project, I have worked upon creating content for our customers. Now I didn't have the marketing content data.\n",
        "Hence I used a dataset consisting of lyrics of Taylor Swift's songs but that's relatable, isn't it? We are going to use the same stuff in automated marketing content creation too. .\n",
        "\n",
        "The flow of this Analysis will be:\n",
        "- First I have imported the dataset of lyrics of Taylor Swift's songs and created a corpus consisting of sentences. \n",
        "\n",
        "- We then fit the tokenizer on our corpus and store the data related to corpus in tokenizer itself, so now each word has an index starting from 1.\n",
        "\n",
        "- From there we get input sequences on the basis of numerical arrangement of order of words.\n",
        "\n",
        "- We made it as a supervised learning problem, labels are predicted using predictors andd built a model consisting of embedding layer for word embeddings, Bidirectional LSTM, LSTM and Dense Layer\n",
        "\n",
        "- In the Last step, content is predicted using our two functions which are get_content and create_content and all of these steps have been explained below"
      ]
    },
    {
      "cell_type": "code",
      "metadata": {
        "id": "XwuNaa0B9l7S"
      },
      "source": [
        "#importing suitable libraries \n",
        "from tensorflow.keras.preprocessing.sequence import pad_sequences\n",
        "from tensorflow.keras.layers import Embedding, LSTM, Dense, Dropout, Bidirectional\n",
        "from tensorflow.keras.preprocessing.text import Tokenizer\n",
        "from tensorflow.keras.models import Sequential\n",
        "from tensorflow.keras.optimizers import Adam\n",
        "\n",
        "from tensorflow.keras.regularizers import Regularizer\n",
        "\n",
        "import tensorflow.keras.utils as ku \n",
        "import numpy as np"
      ],
      "execution_count": 2,
      "outputs": []
    },
    {
      "cell_type": "markdown",
      "metadata": {
        "id": "d4Cotpa4hYOi"
      },
      "source": [
        "#### Step 1. Reading our Data"
      ]
    },
    {
      "cell_type": "code",
      "metadata": {
        "id": "zWOrpfHlxT_j"
      },
      "source": [
        "import urllib.request\n",
        "\n",
        "url = \"https://github.com/swap-253/Machine-Learning-and-Data-Science-in-Marketing-Use-Cases/blob/main/Content%20Creation%20Using%20AI/Taylor%20Swift%20Songs.txt\"\n",
        "data = urllib.request.urlopen(url).read().decode(\"utf-8\")"
      ],
      "execution_count": 27,
      "outputs": []
    },
    {
      "cell_type": "markdown",
      "metadata": {
        "id": "C9mpKPb0iK5q"
      },
      "source": [
        "#### Step 2. A basic data preprocessing, elimination of white spaces and alphanumeric characters"
      ]
    },
    {
      "cell_type": "code",
      "metadata": {
        "id": "OFmTs7qd9l9X"
      },
      "source": [
        "import re\n",
        "data = re.sub(r'[^\\w\\s]', '', data)"
      ],
      "execution_count": 37,
      "outputs": []
    },
    {
      "cell_type": "markdown",
      "metadata": {
        "id": "Tpynz0rVi2ie"
      },
      "source": [
        "**\\r\\n depict either end of a sentence or next sentence and we need to eliminate them as a preprocessing step**"
      ]
    },
    {
      "cell_type": "code",
      "metadata": {
        "id": "6VzNw7jJi1db"
      },
      "source": [
        "# Splitting the string into sentences, while converting whole data into lowercase. \n",
        "corpus = data.lower().split(\"\\r\\n\")"
      ],
      "execution_count": 38,
      "outputs": []
    },
    {
      "cell_type": "code",
      "metadata": {
        "id": "YCaQn1MR9mAv"
      },
      "source": [
        "# Now, to make sure no sentence appears twice in our corpus, we use set. Otherwise, it will make the model biased.\n",
        "corpus = list(set(corpus))\n",
        "for i in range(len(corpus)):\n",
        "    sentence = corpus[i]\n",
        "    sentence = \"startsentence \" + sentence + \" endsentence\"\n",
        "    corpus[i] = sentence"
      ],
      "execution_count": 39,
      "outputs": []
    },
    {
      "cell_type": "code",
      "metadata": {
        "colab": {
          "base_uri": "https://localhost:8080/"
        },
        "id": "a1lUlfVYlMqn",
        "outputId": "ccfe8550-9a27-475b-a0d2-5990ee792887"
      },
      "source": [
        "new_corpus = []\n",
        "for i in range(0, len(corpus), 3):\n",
        "    if i+1 in range(len(corpus)):\n",
        "        sentence = corpus[i] + \" newsentence \" + corpus[i+1]\n",
        "        new_corpus.append(sentence)\n",
        "print(new_corpus[1])\n",
        "print(corpus[3])"
      ],
      "execution_count": 40,
      "outputs": [
        {
          "output_type": "stream",
          "text": [
            "startsentence but you come back to what you need endsentence newsentence startsentence i grew up in a pretty house and i had space to run endsentence\n",
            "startsentence but you come back to what you need endsentence\n"
          ],
          "name": "stdout"
        }
      ]
    },
    {
      "cell_type": "code",
      "metadata": {
        "id": "DwfhviQElMuF"
      },
      "source": [
        "temp = corpus + new_corpus\n",
        "corpus1 = []\n",
        "for i in temp:\n",
        "    if i not in corpus1:\n",
        "        corpus1.append(i)"
      ],
      "execution_count": 41,
      "outputs": []
    },
    {
      "cell_type": "markdown",
      "metadata": {
        "id": "TAwCAcOcZy0V"
      },
      "source": [
        "**As we can see from here that corpus1 is the final corpus on whom I am gonna fit my tokenizer**"
      ]
    },
    {
      "cell_type": "code",
      "metadata": {
        "id": "bkazoMWO8urg"
      },
      "source": [
        "tokenizer = Tokenizer()\n",
        "tokenizer.fit_on_texts(corpus1)\n",
        "total_words = len(tokenizer.word_index) + 1\n",
        "# create input sequences using list of tokens\n",
        "input_sequences = []\n",
        "for line in corpus:\n",
        "    token_list = tokenizer.texts_to_sequences([line])[0]\n",
        "    for i in range(1, len(token_list)):\n",
        "        n_gram_sequence = token_list[max(0, i-6):i+1]\n",
        "        input_sequences.append(n_gram_sequence)\n",
        "# pad sequences with 0s is the starting if the length of sequence is smaller than the max len\n",
        "max_sequence_len = max([len(x) for x in input_sequences])\n",
        "input_sequences = np.array(pad_sequences(input_sequences, maxlen=max_sequence_len, padding='pre'))\n",
        "# create predictors and label\n",
        "predictors, label = input_sequences[:,:-1],input_sequences[:,-1]\n",
        "#one hot encoding of labels\n",
        "label = ku.to_categorical(label, num_classes=total_words)"
      ],
      "execution_count": 49,
      "outputs": []
    },
    {
      "cell_type": "code",
      "metadata": {
        "colab": {
          "base_uri": "https://localhost:8080/"
        },
        "id": "k423roh_831a",
        "outputId": "c1d1362a-daa1-42d0-c857-ea2d05ab671e"
      },
      "source": [
        "print(\"Input Sequences\")\n",
        "print(input_sequences)\n",
        "print(\"Shape of Input Sequences\", input_sequences.shape)"
      ],
      "execution_count": 50,
      "outputs": [
        {
          "output_type": "stream",
          "text": [
            "Input Sequences\n",
            "[[   0    0    0 ...    0    1   13]\n",
            " [   0    0    0 ...    1   13  163]\n",
            " [   0    0    0 ...   13  163   23]\n",
            " ...\n",
            " [ 371   18  362 ...   12    6 1029]\n",
            " [  18  362  537 ...    6 1029   79]\n",
            " [ 362  537   12 ... 1029   79    2]]\n",
            "Shape of Input Sequences (26176, 7)\n"
          ],
          "name": "stdout"
        }
      ]
    },
    {
      "cell_type": "markdown",
      "metadata": {
        "id": "na-k_MGXeELd"
      },
      "source": [
        "**As we can see from above input sequence, so our model is gotta work as follows:-** "
      ]
    },
    {
      "cell_type": "markdown",
      "metadata": {
        "id": "q744R70uebl8"
      },
      "source": [
        "**It will train taking input as 1 and output as 13. Then it will take inputs as 1 and 13 and output as 163. Further it will take inputs as 1,13,163 and output as 23 and so on.**"
      ]
    },
    {
      "cell_type": "code",
      "metadata": {
        "colab": {
          "base_uri": "https://localhost:8080/"
        },
        "id": "QpW5GRRK835S",
        "outputId": "d6af53d2-9749-4123-e262-d1bbf6d5dd76"
      },
      "source": [
        "print(\"Predictors\")\n",
        "print(predictors)\n",
        "print(\"Shape of predictors is\", predictors.shape)"
      ],
      "execution_count": 51,
      "outputs": [
        {
          "output_type": "stream",
          "text": [
            "Predictors\n",
            "[[   0    0    0    0    0    1]\n",
            " [   0    0    0    0    1   13]\n",
            " [   0    0    0    1   13  163]\n",
            " ...\n",
            " [ 371   18  362  537   12    6]\n",
            " [  18  362  537   12    6 1029]\n",
            " [ 362  537   12    6 1029   79]]\n",
            "Shape of predictors is (26176, 6)\n"
          ],
          "name": "stdout"
        }
      ]
    },
    {
      "cell_type": "code",
      "metadata": {
        "colab": {
          "base_uri": "https://localhost:8080/"
        },
        "id": "JmHl3npY83-U",
        "outputId": "cf71e877-5a18-4f0b-cd8d-9beffe792d6e"
      },
      "source": [
        "print(\"Label\")\n",
        "print(label)\n",
        "print(\"Shape of predictors is\", label.shape)"
      ],
      "execution_count": 52,
      "outputs": [
        {
          "output_type": "stream",
          "text": [
            "Label\n",
            "[[0. 0. 0. ... 0. 0. 0.]\n",
            " [0. 0. 0. ... 0. 0. 0.]\n",
            " [0. 0. 0. ... 0. 0. 0.]\n",
            " ...\n",
            " [0. 0. 0. ... 0. 0. 0.]\n",
            " [0. 0. 0. ... 0. 0. 0.]\n",
            " [0. 0. 1. ... 0. 0. 0.]]\n",
            "Shape of predictors is (26176, 2402)\n"
          ],
          "name": "stdout"
        }
      ]
    },
    {
      "cell_type": "markdown",
      "metadata": {
        "id": "F8mJFwNOaBwg"
      },
      "source": [
        "### Creating Our Sequential Model"
      ]
    },
    {
      "cell_type": "code",
      "metadata": {
        "colab": {
          "base_uri": "https://localhost:8080/"
        },
        "id": "__Laia7p9mOz",
        "outputId": "c09fa4af-4095-4a81-f7b7-4396a7ceec5e"
      },
      "source": [
        "#creating sequential Model consisting of word embeddings, Bidirectional LSTM,LSTM and Dense Layers\n",
        "model = Sequential()\n",
        "model.add(Embedding(total_words, 50, input_length=max_sequence_len-1))  #(# Embedding Layer)\n",
        "model.add(Bidirectional(LSTM(150, return_sequences=True)))  #(An LSTM Layer)\n",
        "model.add(Dropout(0.2))  #(# A dropout layer for regularisation)\n",
        "model.add(LSTM(100))  #(# Another LSTM Layer)\n",
        "model.add(Dense(total_words/2, activation='relu'))  #(# A Dense Layer including regularizers)\n",
        "#(# Last Layer, the shape is equal to total number of words present in our vocabulary)\n",
        "model.add(Dense(total_words, activation='softmax'))  \n",
        "# Pick an optimizer\n",
        "model.compile(loss='categorical_crossentropy', optimizer='adam', metrics='accuracy')  #(# Pick a loss function and an optimizer)\n",
        "print(model.summary())"
      ],
      "execution_count": 13,
      "outputs": [
        {
          "output_type": "stream",
          "text": [
            "Model: \"sequential\"\n",
            "_________________________________________________________________\n",
            "Layer (type)                 Output Shape              Param #   \n",
            "=================================================================\n",
            "embedding (Embedding)        (None, 6, 50)             120100    \n",
            "_________________________________________________________________\n",
            "bidirectional (Bidirectional (None, 6, 300)            241200    \n",
            "_________________________________________________________________\n",
            "dropout (Dropout)            (None, 6, 300)            0         \n",
            "_________________________________________________________________\n",
            "lstm_1 (LSTM)                (None, 100)               160400    \n",
            "_________________________________________________________________\n",
            "dense (Dense)                (None, 1201)              121301    \n",
            "_________________________________________________________________\n",
            "dense_1 (Dense)              (None, 2402)              2887204   \n",
            "=================================================================\n",
            "Total params: 3,530,205\n",
            "Trainable params: 3,530,205\n",
            "Non-trainable params: 0\n",
            "_________________________________________________________________\n",
            "None\n"
          ],
          "name": "stdout"
        }
      ]
    },
    {
      "cell_type": "markdown",
      "metadata": {
        "id": "OnhuqemFaJLJ"
      },
      "source": [
        "#### Model Fitting"
      ]
    },
    {
      "cell_type": "code",
      "metadata": {
        "colab": {
          "base_uri": "https://localhost:8080/"
        },
        "id": "Hun73_BZ9JBr",
        "outputId": "7da10ffa-0956-4bc5-acf4-7e38713f0ec9"
      },
      "source": [
        "history = model.fit(predictors, label, epochs= 60, verbose=1)"
      ],
      "execution_count": 14,
      "outputs": [
        {
          "output_type": "stream",
          "text": [
            "Epoch 1/60\n",
            "1433/1433 [==============================] - 22s 9ms/step - loss: 5.2112 - accuracy: 0.1718\n",
            "Epoch 2/60\n",
            "1433/1433 [==============================] - 13s 9ms/step - loss: 4.5525 - accuracy: 0.2110\n",
            "Epoch 3/60\n",
            "1433/1433 [==============================] - 13s 9ms/step - loss: 4.1303 - accuracy: 0.2405\n",
            "Epoch 4/60\n",
            "1433/1433 [==============================] - 13s 9ms/step - loss: 3.7438 - accuracy: 0.2674\n",
            "Epoch 5/60\n",
            "1433/1433 [==============================] - 13s 9ms/step - loss: 3.3616 - accuracy: 0.3027\n",
            "Epoch 6/60\n",
            "1433/1433 [==============================] - 13s 9ms/step - loss: 2.9815 - accuracy: 0.3492\n",
            "Epoch 7/60\n",
            "1433/1433 [==============================] - 12s 9ms/step - loss: 2.6195 - accuracy: 0.4078\n",
            "Epoch 8/60\n",
            "1433/1433 [==============================] - 12s 9ms/step - loss: 2.3085 - accuracy: 0.4647\n",
            "Epoch 9/60\n",
            "1433/1433 [==============================] - 13s 9ms/step - loss: 2.0390 - accuracy: 0.5211\n",
            "Epoch 10/60\n",
            "1433/1433 [==============================] - 13s 9ms/step - loss: 1.8276 - accuracy: 0.5695\n",
            "Epoch 11/60\n",
            "1433/1433 [==============================] - 12s 9ms/step - loss: 1.6552 - accuracy: 0.6081\n",
            "Epoch 12/60\n",
            "1433/1433 [==============================] - 12s 9ms/step - loss: 1.5226 - accuracy: 0.6386\n",
            "Epoch 13/60\n",
            "1433/1433 [==============================] - 13s 9ms/step - loss: 1.4144 - accuracy: 0.6653\n",
            "Epoch 14/60\n",
            "1433/1433 [==============================] - 12s 9ms/step - loss: 1.3318 - accuracy: 0.6850\n",
            "Epoch 15/60\n",
            "1433/1433 [==============================] - 12s 9ms/step - loss: 1.2688 - accuracy: 0.6999\n",
            "Epoch 16/60\n",
            "1433/1433 [==============================] - 12s 9ms/step - loss: 1.2230 - accuracy: 0.7101\n",
            "Epoch 17/60\n",
            "1433/1433 [==============================] - 13s 9ms/step - loss: 1.1812 - accuracy: 0.7195\n",
            "Epoch 18/60\n",
            "1433/1433 [==============================] - 13s 9ms/step - loss: 1.1493 - accuracy: 0.7263\n",
            "Epoch 19/60\n",
            "1433/1433 [==============================] - 12s 9ms/step - loss: 1.1109 - accuracy: 0.7366\n",
            "Epoch 20/60\n",
            "1433/1433 [==============================] - 12s 9ms/step - loss: 1.0940 - accuracy: 0.7394\n",
            "Epoch 21/60\n",
            "1433/1433 [==============================] - 12s 9ms/step - loss: 1.0714 - accuracy: 0.7454\n",
            "Epoch 22/60\n",
            "1433/1433 [==============================] - 12s 9ms/step - loss: 1.0512 - accuracy: 0.7480\n",
            "Epoch 23/60\n",
            "1433/1433 [==============================] - 12s 9ms/step - loss: 1.0320 - accuracy: 0.7526\n",
            "Epoch 24/60\n",
            "1433/1433 [==============================] - 13s 9ms/step - loss: 1.0139 - accuracy: 0.7560\n",
            "Epoch 25/60\n",
            "1433/1433 [==============================] - 12s 9ms/step - loss: 1.0077 - accuracy: 0.7583\n",
            "Epoch 26/60\n",
            "1433/1433 [==============================] - 12s 9ms/step - loss: 0.9861 - accuracy: 0.7633\n",
            "Epoch 27/60\n",
            "1433/1433 [==============================] - 12s 9ms/step - loss: 0.9758 - accuracy: 0.7642\n",
            "Epoch 28/60\n",
            "1433/1433 [==============================] - 12s 8ms/step - loss: 0.9669 - accuracy: 0.7670\n",
            "Epoch 29/60\n",
            "1433/1433 [==============================] - 12s 9ms/step - loss: 0.9463 - accuracy: 0.7708\n",
            "Epoch 30/60\n",
            "1433/1433 [==============================] - 12s 9ms/step - loss: 0.9438 - accuracy: 0.7715\n",
            "Epoch 31/60\n",
            "1433/1433 [==============================] - 12s 9ms/step - loss: 0.9352 - accuracy: 0.7723\n",
            "Epoch 32/60\n",
            "1433/1433 [==============================] - 12s 9ms/step - loss: 0.9198 - accuracy: 0.7764\n",
            "Epoch 33/60\n",
            "1433/1433 [==============================] - 12s 8ms/step - loss: 0.9165 - accuracy: 0.7779\n",
            "Epoch 34/60\n",
            "1433/1433 [==============================] - 12s 8ms/step - loss: 0.9100 - accuracy: 0.7793\n",
            "Epoch 35/60\n",
            "1433/1433 [==============================] - 12s 9ms/step - loss: 0.9067 - accuracy: 0.7804\n",
            "Epoch 36/60\n",
            "1433/1433 [==============================] - 12s 8ms/step - loss: 0.9002 - accuracy: 0.7826\n",
            "Epoch 37/60\n",
            "1433/1433 [==============================] - 12s 9ms/step - loss: 0.8953 - accuracy: 0.7820\n",
            "Epoch 38/60\n",
            "1433/1433 [==============================] - 12s 9ms/step - loss: 0.8819 - accuracy: 0.7854\n",
            "Epoch 39/60\n",
            "1433/1433 [==============================] - 12s 8ms/step - loss: 0.8840 - accuracy: 0.7839\n",
            "Epoch 40/60\n",
            "1433/1433 [==============================] - 12s 9ms/step - loss: 0.8798 - accuracy: 0.7853\n",
            "Epoch 41/60\n",
            "1433/1433 [==============================] - 12s 9ms/step - loss: 0.8711 - accuracy: 0.7873\n",
            "Epoch 42/60\n",
            "1433/1433 [==============================] - 12s 9ms/step - loss: 0.8711 - accuracy: 0.7872\n",
            "Epoch 43/60\n",
            "1433/1433 [==============================] - 13s 9ms/step - loss: 0.8643 - accuracy: 0.7888\n",
            "Epoch 44/60\n",
            "1433/1433 [==============================] - 13s 9ms/step - loss: 0.8657 - accuracy: 0.7883\n",
            "Epoch 45/60\n",
            "1433/1433 [==============================] - 13s 9ms/step - loss: 0.8601 - accuracy: 0.7903\n",
            "Epoch 46/60\n",
            "1433/1433 [==============================] - 13s 9ms/step - loss: 0.8602 - accuracy: 0.7896\n",
            "Epoch 47/60\n",
            "1433/1433 [==============================] - 13s 9ms/step - loss: 0.8599 - accuracy: 0.7904\n",
            "Epoch 48/60\n",
            "1433/1433 [==============================] - 13s 9ms/step - loss: 0.8548 - accuracy: 0.7904\n",
            "Epoch 49/60\n",
            "1433/1433 [==============================] - 13s 9ms/step - loss: 0.8543 - accuracy: 0.7891\n",
            "Epoch 50/60\n",
            "1433/1433 [==============================] - 13s 9ms/step - loss: 0.8495 - accuracy: 0.7913\n",
            "Epoch 51/60\n",
            "1433/1433 [==============================] - 13s 9ms/step - loss: 0.8508 - accuracy: 0.7911\n",
            "Epoch 52/60\n",
            "1433/1433 [==============================] - 13s 9ms/step - loss: 0.8476 - accuracy: 0.7912\n",
            "Epoch 53/60\n",
            "1433/1433 [==============================] - 13s 9ms/step - loss: 0.8411 - accuracy: 0.7934\n",
            "Epoch 54/60\n",
            "1433/1433 [==============================] - 13s 9ms/step - loss: 0.8416 - accuracy: 0.7937\n",
            "Epoch 55/60\n",
            "1433/1433 [==============================] - 13s 9ms/step - loss: 0.8422 - accuracy: 0.7930\n",
            "Epoch 56/60\n",
            "1433/1433 [==============================] - 13s 9ms/step - loss: 0.8390 - accuracy: 0.7942\n",
            "Epoch 57/60\n",
            "1433/1433 [==============================] - 13s 9ms/step - loss: 0.8418 - accuracy: 0.7930\n",
            "Epoch 58/60\n",
            "1433/1433 [==============================] - 13s 9ms/step - loss: 0.8366 - accuracy: 0.7940\n",
            "Epoch 59/60\n",
            "1433/1433 [==============================] - 13s 9ms/step - loss: 0.8338 - accuracy: 0.7946\n",
            "Epoch 60/60\n",
            "1433/1433 [==============================] - 13s 9ms/step - loss: 0.8345 - accuracy: 0.7947\n"
          ],
          "name": "stdout"
        }
      ]
    },
    {
      "cell_type": "markdown",
      "metadata": {
        "id": "DMd505XVaNuM"
      },
      "source": [
        "### Plotting Accuracy/Loss metrics of our Model"
      ]
    },
    {
      "cell_type": "code",
      "metadata": {
        "id": "dL26RqV99N9E",
        "colab": {
          "base_uri": "https://localhost:8080/",
          "height": 279
        },
        "outputId": "62b68ee2-10b3-4a1f-d527-5786fce59ac7"
      },
      "source": [
        "import matplotlib.pyplot as plt\n",
        "def plot_graph(history,string):\n",
        "    plt.plot(history.history[string])\n",
        "    plt.xlabel(\"Epochs\")\n",
        "    plt.ylabel(string)\n",
        "    plt.show()\n",
        "plot_graph(history,'accuracy')"
      ],
      "execution_count": 15,
      "outputs": [
        {
          "output_type": "display_data",
          "data": {
            "image/png": "[encoded data removed]",
            "text/plain": [
              "<Figure size 432x288 with 1 Axes>"
            ]
          },
          "metadata": {
            "tags": [],
            "needs_background": "light"
          }
        }
      ]
    },
    {
      "cell_type": "code",
      "metadata": {
        "id": "xuIenHtD9OAs",
        "colab": {
          "base_uri": "https://localhost:8080/",
          "height": 279
        },
        "outputId": "11a7421a-7250-41af-b799-0606e7d8eb6b"
      },
      "source": [
        "plot_graph(history,'loss')"
      ],
      "execution_count": 16,
      "outputs": [
        {
          "output_type": "display_data",
          "data": {
            "image/png": "[encoded data removed]",
            "text/plain": [
              "<Figure size 432x288 with 1 Axes>"
            ]
          },
          "metadata": {
            "tags": [],
            "needs_background": "light"
          }
        }
      ]
    },
    {
      "cell_type": "code",
      "metadata": {
        "colab": {
          "base_uri": "https://localhost:8080/",
          "height": 17
        },
        "id": "Bf423qnFWWd-",
        "outputId": "7d88adb6-75fb-4a1a-f033-1a4f5b259446"
      },
      "source": [
        "#Model has been saved since it took a large amount of time to train\n",
        "model.save('content_model.h5')\n",
        "from google.colab import files\n",
        "files.download('content_model.h5')"
      ],
      "execution_count": 20,
      "outputs": [
        {
          "output_type": "display_data",
          "data": {
            "application/javascript": [
              "\n",
              "    async function download(id, filename, size) {\n",
              "      if (!google.colab.kernel.accessAllowed) {\n",
              "        return;\n",
              "      }\n",
              "      const div = document.createElement('div');\n",
              "      const label = document.createElement('label');\n",
              "      label.textContent = `Downloading \"${filename}\": `;\n",
              "      div.appendChild(label);\n",
              "      const progress = document.createElement('progress');\n",
              "      progress.max = size;\n",
              "      div.appendChild(progress);\n",
              "      document.body.appendChild(div);\n",
              "\n",
              "      const buffers = [];\n",
              "      let downloaded = 0;\n",
              "\n",
              "      const channel = await google.colab.kernel.comms.open(id);\n",
              "      // Send a message to notify the kernel that we're ready.\n",
              "      channel.send({})\n",
              "\n",
              "      for await (const message of channel.messages) {\n",
              "        // Send a message to notify the kernel that we're ready.\n",
              "        channel.send({})\n",
              "        if (message.buffers) {\n",
              "          for (const buffer of message.buffers) {\n",
              "            buffers.push(buffer);\n",
              "            downloaded += buffer.byteLength;\n",
              "            progress.value = downloaded;\n",
              "          }\n",
              "        }\n",
              "      }\n",
              "      const blob = new Blob(buffers, {type: 'application/binary'});\n",
              "      const a = document.createElement('a');\n",
              "      a.href = window.URL.createObjectURL(blob);\n",
              "      a.download = filename;\n",
              "      div.appendChild(a);\n",
              "      a.click();\n",
              "      div.remove();\n",
              "    }\n",
              "  "
            ],
            "text/plain": [
              "<IPython.core.display.Javascript object>"
            ]
          },
          "metadata": {
            "tags": []
          }
        },
        {
          "output_type": "display_data",
          "data": {
            "application/javascript": [
              "download(\"download_fd77f7e3-a820-4372-928a-4080a6bbcc35\", \"content_model.h5\", 42431948)"
            ],
            "text/plain": [
              "<IPython.core.display.Javascript object>"
            ]
          },
          "metadata": {
            "tags": []
          }
        }
      ]
    },
    {
      "cell_type": "markdown",
      "metadata": {
        "id": "JRVF6i9XafFv"
      },
      "source": [
        "### Two functions have been defined below:- first is the get_content and second one is the create_content"
      ]
    },
    {
      "cell_type": "markdown",
      "metadata": {
        "id": "rzXRfyPchAby"
      },
      "source": [
        "**Get_Content Function**\n",
        "<br>\n",
        "It takes the seed_text which is the beginning from where we want to start the content and then its tokenized and fed into the model after padding which is obvious. I take the predicted word and append it to the seed_text. Now I desire 10 lines of text, so I have to keep track of the number of lines, so if the predicted output is an 'endsentence', we increase end count by 1 until 10 at which we report the final output"
      ]
    },
    {
      "cell_type": "code",
      "metadata": {
        "id": "K4k5iwcq9fJi"
      },
      "source": [
        "def get_content(seed_text):\n",
        "    ans = True\n",
        "    end_count = 0\n",
        "    seed_text = \"startsentence \" + seed_text \n",
        "    while True:\n",
        "        token_list = tokenizer.texts_to_sequences([seed_text])[0]\n",
        "        token_list = pad_sequences([token_list], maxlen=max_sequence_len-1, padding='pre')\n",
        "        predicted = np.argmax(model.predict(token_list, verbose=0), axis = -1)\n",
        "        output_word = \"\"\n",
        "        for word, index in tokenizer.word_index.items():\n",
        "            if index == predicted:\n",
        "                output_word = word\n",
        "                break\n",
        "        if output_word == \"endsentence\":\n",
        "            end_count += 1\n",
        "        #adding the content till 10 lines \n",
        "        if end_count == 10:\n",
        "            new_sentence_words = seed_text.split()[1:]\n",
        "            seed_text = ' '.join(new_sentence_words)\n",
        "            return(seed_text)\n",
        "            ans = False\n",
        "            break\n",
        "        seed_text += \" \" + output_word\n",
        "    # if ans == True:\n",
        "    #     new_sentence_words = seed_text.split()[1:]\n",
        "    #     seed_text = ' '.join(new_sentence_words)\n",
        "    #     return(seed_text)\n"
      ],
      "execution_count": 53,
      "outputs": []
    },
    {
      "cell_type": "markdown",
      "metadata": {
        "id": "iu9crPc_iEdL"
      },
      "source": [
        "**Create_Content Function**\n",
        "<br>\n",
        "It takes the output from the previous function and then removes words such as 'newsentence' or 'endsentence' and report us a final text"
      ]
    },
    {
      "cell_type": "code",
      "metadata": {
        "id": "YUGa9L2Zh_aW"
      },
      "source": [
        "def create_content(text):\n",
        "    seed_text = get_content(text)\n",
        "    content = seed_text.split(\"newsentence\")\n",
        "    for i in range(len(content)):\n",
        "        sentence = content[i]\n",
        "        words = sentence.split()\n",
        "        if \"endsentence\" in words:\n",
        "            words.remove(\"endsentence\")\n",
        "        if \"startsentence\" in words:\n",
        "            words.remove(\"startsentence\")\n",
        "        sentence = ' '.join(words)\n",
        "        content[i] = sentence\n",
        "    for sentence in content:\n",
        "        print(sentence)"
      ],
      "execution_count": 56,
      "outputs": []
    },
    {
      "cell_type": "code",
      "metadata": {
        "id": "6KpeFZzu9fN2",
        "colab": {
          "base_uri": "https://localhost:8080/"
        },
        "outputId": "a0b5fd34-035d-473e-9c52-236fed5d3c0f"
      },
      "source": [
        "create_content(\"All you need is a reason to move on\")"
      ],
      "execution_count": 54,
      "outputs": [
        {
          "output_type": "stream",
          "text": [
            "All you need is a reason to move on the road thing think we had\n",
            "the delicate beginning rush\n",
            "i hate that stupid old pickup truck\n",
            "i tried to take the road less traveled by\n",
            "haha it proudly it proudly\n",
            "yeah we were dancing oh\n",
            "and i know its long gone and there was nothing else i could do\n",
            "do you believe it\n",
            "but i do\n",
            "oh im scared to see the ending\n"
          ],
          "name": "stdout"
        }
      ]
    },
    {
      "cell_type": "code",
      "metadata": {
        "id": "gPolOzPg9JJZ",
        "colab": {
          "base_uri": "https://localhost:8080/"
        },
        "outputId": "fe5b12fc-b329-4b59-daa3-03229f0ff8f6"
      },
      "source": [
        "create_content(\"I have to accept this failure and\")"
      ],
      "execution_count": 55,
      "outputs": [
        {
          "output_type": "stream",
          "text": [
            "I have to accept this failure and always\n",
            "i imagine you are home\n",
            "is a ruthless game\n",
            "couldve loved you all my life if you hadnt left me waiting in the cold\n",
            "but so does\n",
            "and the storys got dust on every page\n",
            "i said you and mean\n",
            "king of my heart body and soul ooh whoa\n",
            "with this song for you\n",
            "is this the end of all the endings\n"
          ],
          "name": "stdout"
        }
      ]
    }
  ]
}